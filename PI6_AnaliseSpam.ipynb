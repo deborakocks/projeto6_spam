{
 "cells": [
  {
   "cell_type": "markdown",
   "id": "5d43bb10-6d87-446e-8c73-a03704ca628d",
   "metadata": {},
   "source": [
    "### Análise e identificação de SPAM em mensagens"
   ]
  },
  {
   "cell_type": "markdown",
   "id": "e78811fa-2be8-4205-895f-a1d1674548a7",
   "metadata": {},
   "source": [
    "#### *Situação Problema* \n",
    "\n",
    "Uma operadora de telecomunicações está recebendo reclamações de clientes sobre mensagens de spam em seus celulares. Essas mensagens não só irritam os usuários, mas também podem levar a golpes financeiros. A empresa contratou sua equipe para desenvolver um modelo de classificação automática que identifique mensagens spam com alta precisão, evitando bloquear mensagens legítimas (especialmente alertas importantes, como notificações bancárias ou emergenciais).\n",
    "\n",
    "Objetivo: Criar um modelo de machine learning que classifique SMS como ham ou spam com base no conteúdo textual."
   ]
  },
  {
   "cell_type": "code",
   "execution_count": 1,
   "id": "caa18d0f",
   "metadata": {},
   "outputs": [
    {
     "name": "stdout",
     "output_type": "stream",
     "text": [
      "Requirement already satisfied: nltk in c:\\users\\caio bello\\anaconda3\\lib\\site-packages (3.8.1)\n",
      "Requirement already satisfied: click in c:\\users\\caio bello\\anaconda3\\lib\\site-packages (from nltk) (8.1.7)\n",
      "Requirement already satisfied: joblib in c:\\users\\caio bello\\anaconda3\\lib\\site-packages (from nltk) (1.4.2)\n",
      "Requirement already satisfied: regex>=2021.8.3 in c:\\users\\caio bello\\anaconda3\\lib\\site-packages (from nltk) (2023.10.3)\n",
      "Requirement already satisfied: tqdm in c:\\users\\caio bello\\anaconda3\\lib\\site-packages (from nltk) (4.66.4)\n",
      "Requirement already satisfied: colorama in c:\\users\\caio bello\\anaconda3\\lib\\site-packages (from click->nltk) (0.4.6)\n"
     ]
    }
   ],
   "source": [
    "!pip install nltk"
   ]
  },
  {
   "cell_type": "code",
   "execution_count": 1,
   "id": "86126490",
   "metadata": {},
   "outputs": [],
   "source": [
    "#Importando libraries\n",
    "import pandas as pd\n",
    "import re # ferramentas para procurar e manipular textos com padrões.\n",
    "import nltk\n",
    "import sklearn\n",
    "import seaborn as sns\n",
    "import matplotlib.pyplot as plt\n",
    "from nltk.tokenize import word_tokenize\n",
    "from nltk.corpus import stopwords\n",
    "from sklearn.feature_extraction.text import TfidfVectorizer\n",
    "from sklearn.model_selection import train_test_split\n",
    "from imblearn.over_sampling import SMOTE\n",
    "from sklearn.svm import LinearSVC\n",
    "from sklearn.metrics import classification_report, accuracy_score, confusion_matrix, ConfusionMatrixDisplay, precision_score, recall_score, f1_score\n",
    "from sklearn.naive_bayes import MultinomialNB\n",
    "from sklearn.ensemble import RandomForestClassifier\n",
    "from sklearn.model_selection import GridSearchCV\n",
    "from sklearn.model_selection import RandomizedSearchCV\n",
    "from scipy.stats import uniform\n",
    "from scipy.stats import randint"
   ]
  },
  {
   "cell_type": "markdown",
   "id": "85cad86b-47e9-41d9-92a6-6a3a5838b2f5",
   "metadata": {},
   "source": [
    "#### 1. Carregamento e exploração inicial"
   ]
  },
  {
   "cell_type": "code",
   "execution_count": 2,
   "id": "57ac2b85-46c0-4fc1-8b21-88a5a6db8155",
   "metadata": {},
   "outputs": [
    {
     "data": {
      "text/html": [
       "<div>\n",
       "<style scoped>\n",
       "    .dataframe tbody tr th:only-of-type {\n",
       "        vertical-align: middle;\n",
       "    }\n",
       "\n",
       "    .dataframe tbody tr th {\n",
       "        vertical-align: top;\n",
       "    }\n",
       "\n",
       "    .dataframe thead th {\n",
       "        text-align: right;\n",
       "    }\n",
       "</style>\n",
       "<table border=\"1\" class=\"dataframe\">\n",
       "  <thead>\n",
       "    <tr style=\"text-align: right;\">\n",
       "      <th></th>\n",
       "      <th>label</th>\n",
       "      <th>message</th>\n",
       "    </tr>\n",
       "  </thead>\n",
       "  <tbody>\n",
       "    <tr>\n",
       "      <th>0</th>\n",
       "      <td>ham</td>\n",
       "      <td>Go until jurong point, crazy.. Available only ...</td>\n",
       "    </tr>\n",
       "    <tr>\n",
       "      <th>1</th>\n",
       "      <td>ham</td>\n",
       "      <td>Ok lar... Joking wif u oni...</td>\n",
       "    </tr>\n",
       "    <tr>\n",
       "      <th>2</th>\n",
       "      <td>spam</td>\n",
       "      <td>Free entry in 2 a wkly comp to win FA Cup fina...</td>\n",
       "    </tr>\n",
       "    <tr>\n",
       "      <th>3</th>\n",
       "      <td>ham</td>\n",
       "      <td>U dun say so early hor... U c already then say...</td>\n",
       "    </tr>\n",
       "    <tr>\n",
       "      <th>4</th>\n",
       "      <td>ham</td>\n",
       "      <td>Nah I don't think he goes to usf, he lives aro...</td>\n",
       "    </tr>\n",
       "  </tbody>\n",
       "</table>\n",
       "</div>"
      ],
      "text/plain": [
       "  label                                            message\n",
       "0   ham  Go until jurong point, crazy.. Available only ...\n",
       "1   ham                      Ok lar... Joking wif u oni...\n",
       "2  spam  Free entry in 2 a wkly comp to win FA Cup fina...\n",
       "3   ham  U dun say so early hor... U c already then say...\n",
       "4   ham  Nah I don't think he goes to usf, he lives aro..."
      ]
     },
     "execution_count": 2,
     "metadata": {},
     "output_type": "execute_result"
    }
   ],
   "source": [
    "\n",
    "df = pd.read_csv('SMSSpamCollection', sep='\\t', header=None, names=['label', 'message'])\n",
    "\n",
    "df.head()"
   ]
  },
  {
   "cell_type": "markdown",
   "id": "1994db1b-a221-48e4-a651-80b979afd1b4",
   "metadata": {},
   "source": [
    "\n",
    "##### Ham vs. Spam\n",
    "\n",
    "Ham = mensagens normais e úteis\n",
    "\n",
    "Spam = mensagens indesejadas, como propagandas, golpes ou notificações invasivas.\n",
    "\n"
   ]
  },
  {
   "cell_type": "code",
   "execution_count": 3,
   "id": "de6cdc54-928e-4f91-9f43-020ef9efd15f",
   "metadata": {},
   "outputs": [
    {
     "data": {
      "text/plain": [
       "label\n",
       "ham     4825\n",
       "spam     747\n",
       "Name: count, dtype: int64"
      ]
     },
     "execution_count": 3,
     "metadata": {},
     "output_type": "execute_result"
    }
   ],
   "source": [
    "# Contar quantas mensagens são ham e quantas são spam\n",
    "\n",
    "df['label'].value_counts()"
   ]
  },
  {
   "cell_type": "code",
   "execution_count": 4,
   "id": "386de3a4-b1a9-43b8-9a24-5fda66ff22da",
   "metadata": {},
   "outputs": [
    {
     "name": "stdout",
     "output_type": "stream",
     "text": [
      "Mensagens HAM:\n",
      "0    Go until jurong point, crazy.. Available only ...\n",
      "1                        Ok lar... Joking wif u oni...\n",
      "3    U dun say so early hor... U c already then say...\n",
      "4    Nah I don't think he goes to usf, he lives aro...\n",
      "6    Even my brother is not like to speak with me. ...\n",
      "Name: message, dtype: object \n",
      "\n",
      "Mensagens SPAM:\n",
      "2     Free entry in 2 a wkly comp to win FA Cup fina...\n",
      "5     FreeMsg Hey there darling it's been 3 week's n...\n",
      "8     WINNER!! As a valued network customer you have...\n",
      "9     Had your mobile 11 months or more? U R entitle...\n",
      "11    SIX chances to win CASH! From 100 to 20,000 po...\n",
      "Name: message, dtype: object\n"
     ]
    }
   ],
   "source": [
    "# Verificar exemplos de mensagens de cada classe (5)\n",
    "\n",
    "# Exemplo mensagens 'ham'\n",
    "print(\"Mensagens HAM:\")\n",
    "print(df[df['label'] == 'ham']['message'].head(), \"\\n\")\n",
    "\n",
    "# Exemplo mensagens 'Spam'\n",
    "print(\"Mensagens SPAM:\")\n",
    "print(df[df['label'] == 'spam']['message'].head())"
   ]
  },
  {
   "cell_type": "markdown",
   "id": "063c7455-5848-4806-8ced-4c0efed72cee",
   "metadata": {},
   "source": [
    "#### 2. Pré-processamento de texto\n"
   ]
  },
  {
   "cell_type": "code",
   "execution_count": 5,
   "id": "a00aefed-749e-4a93-8a4b-2715f949b908",
   "metadata": {},
   "outputs": [
    {
     "data": {
      "text/html": [
       "<div>\n",
       "<style scoped>\n",
       "    .dataframe tbody tr th:only-of-type {\n",
       "        vertical-align: middle;\n",
       "    }\n",
       "\n",
       "    .dataframe tbody tr th {\n",
       "        vertical-align: top;\n",
       "    }\n",
       "\n",
       "    .dataframe thead th {\n",
       "        text-align: right;\n",
       "    }\n",
       "</style>\n",
       "<table border=\"1\" class=\"dataframe\">\n",
       "  <thead>\n",
       "    <tr style=\"text-align: right;\">\n",
       "      <th></th>\n",
       "      <th>message</th>\n",
       "      <th>mensagem_limpa</th>\n",
       "    </tr>\n",
       "  </thead>\n",
       "  <tbody>\n",
       "    <tr>\n",
       "      <th>0</th>\n",
       "      <td>Go until jurong point, crazy.. Available only ...</td>\n",
       "      <td>go until jurong point crazy available only in ...</td>\n",
       "    </tr>\n",
       "    <tr>\n",
       "      <th>1</th>\n",
       "      <td>Ok lar... Joking wif u oni...</td>\n",
       "      <td>ok lar joking wif u oni</td>\n",
       "    </tr>\n",
       "    <tr>\n",
       "      <th>2</th>\n",
       "      <td>Free entry in 2 a wkly comp to win FA Cup fina...</td>\n",
       "      <td>free entry in a wkly comp to win fa cup final ...</td>\n",
       "    </tr>\n",
       "    <tr>\n",
       "      <th>3</th>\n",
       "      <td>U dun say so early hor... U c already then say...</td>\n",
       "      <td>u dun say so early hor u c already then say</td>\n",
       "    </tr>\n",
       "    <tr>\n",
       "      <th>4</th>\n",
       "      <td>Nah I don't think he goes to usf, he lives aro...</td>\n",
       "      <td>nah i dont think he goes to usf he lives aroun...</td>\n",
       "    </tr>\n",
       "  </tbody>\n",
       "</table>\n",
       "</div>"
      ],
      "text/plain": [
       "                                             message  \\\n",
       "0  Go until jurong point, crazy.. Available only ...   \n",
       "1                      Ok lar... Joking wif u oni...   \n",
       "2  Free entry in 2 a wkly comp to win FA Cup fina...   \n",
       "3  U dun say so early hor... U c already then say...   \n",
       "4  Nah I don't think he goes to usf, he lives aro...   \n",
       "\n",
       "                                      mensagem_limpa  \n",
       "0  go until jurong point crazy available only in ...  \n",
       "1                            ok lar joking wif u oni  \n",
       "2  free entry in a wkly comp to win fa cup final ...  \n",
       "3        u dun say so early hor u c already then say  \n",
       "4  nah i dont think he goes to usf he lives aroun...  "
      ]
     },
     "execution_count": 5,
     "metadata": {},
     "output_type": "execute_result"
    }
   ],
   "source": [
    "# Limpar o texto: remover caracteres especiais, números e converter para minúsculas.\n",
    "\n",
    "\n",
    "\n",
    "def limpar_texto(texto):\n",
    "    texto = texto.lower()  # converte para minúsculas\n",
    "    texto = re.sub(r'[^a-z\\s]', '', texto)  # remove números e caracteres especiais\n",
    "    texto = re.sub(r'\\s+', ' ', texto).strip()  # remove espaços duplicados e espaços no início/fim\n",
    "    return texto\n",
    "\n",
    "# Aplicar a função de limpeza à coluna 'message'\n",
    "df['mensagem_limpa'] = df['message'].apply(limpar_texto)\n",
    "\n",
    "df[['message', 'mensagem_limpa']].head()"
   ]
  },
  {
   "cell_type": "code",
   "execution_count": 6,
   "id": "aa9500c1-1a02-4c17-bf74-510a05cf439f",
   "metadata": {},
   "outputs": [
    {
     "data": {
      "text/html": [
       "<div>\n",
       "<style scoped>\n",
       "    .dataframe tbody tr th:only-of-type {\n",
       "        vertical-align: middle;\n",
       "    }\n",
       "\n",
       "    .dataframe tbody tr th {\n",
       "        vertical-align: top;\n",
       "    }\n",
       "\n",
       "    .dataframe thead th {\n",
       "        text-align: right;\n",
       "    }\n",
       "</style>\n",
       "<table border=\"1\" class=\"dataframe\">\n",
       "  <thead>\n",
       "    <tr style=\"text-align: right;\">\n",
       "      <th></th>\n",
       "      <th>mensagem_limpa</th>\n",
       "      <th>tokens</th>\n",
       "    </tr>\n",
       "  </thead>\n",
       "  <tbody>\n",
       "    <tr>\n",
       "      <th>0</th>\n",
       "      <td>go until jurong point crazy available only in ...</td>\n",
       "      <td>[go, until, jurong, point, crazy, available, o...</td>\n",
       "    </tr>\n",
       "    <tr>\n",
       "      <th>1</th>\n",
       "      <td>ok lar joking wif u oni</td>\n",
       "      <td>[ok, lar, joking, wif, u, oni]</td>\n",
       "    </tr>\n",
       "    <tr>\n",
       "      <th>2</th>\n",
       "      <td>free entry in a wkly comp to win fa cup final ...</td>\n",
       "      <td>[free, entry, in, a, wkly, comp, to, win, fa, ...</td>\n",
       "    </tr>\n",
       "    <tr>\n",
       "      <th>3</th>\n",
       "      <td>u dun say so early hor u c already then say</td>\n",
       "      <td>[u, dun, say, so, early, hor, u, c, already, t...</td>\n",
       "    </tr>\n",
       "    <tr>\n",
       "      <th>4</th>\n",
       "      <td>nah i dont think he goes to usf he lives aroun...</td>\n",
       "      <td>[nah, i, dont, think, he, goes, to, usf, he, l...</td>\n",
       "    </tr>\n",
       "  </tbody>\n",
       "</table>\n",
       "</div>"
      ],
      "text/plain": [
       "                                      mensagem_limpa  \\\n",
       "0  go until jurong point crazy available only in ...   \n",
       "1                            ok lar joking wif u oni   \n",
       "2  free entry in a wkly comp to win fa cup final ...   \n",
       "3        u dun say so early hor u c already then say   \n",
       "4  nah i dont think he goes to usf he lives aroun...   \n",
       "\n",
       "                                              tokens  \n",
       "0  [go, until, jurong, point, crazy, available, o...  \n",
       "1                     [ok, lar, joking, wif, u, oni]  \n",
       "2  [free, entry, in, a, wkly, comp, to, win, fa, ...  \n",
       "3  [u, dun, say, so, early, hor, u, c, already, t...  \n",
       "4  [nah, i, dont, think, he, goes, to, usf, he, l...  "
      ]
     },
     "execution_count": 6,
     "metadata": {},
     "output_type": "execute_result"
    }
   ],
   "source": [
    "##### Tokenizar as mensagens (dividir o texto em pedaços menores)\n",
    "\n",
    "df['tokens'] = df['mensagem_limpa'].apply(lambda x: x.split())\n",
    "\n",
    "# Exibir as colunas: original, limpa e tokens\n",
    "df[['mensagem_limpa', 'tokens']].head()"
   ]
  },
  {
   "cell_type": "code",
   "execution_count": null,
   "id": "63f80f81-a129-4fe1-9b81-6df9057da42c",
   "metadata": {},
   "outputs": [
    {
     "name": "stdout",
     "output_type": "stream",
     "text": [
      "Requirement already satisfied: nltk in c:\\users\\debor\\anaconda3\\lib\\site-packages (3.8.1)\n",
      "Requirement already satisfied: click in c:\\users\\debor\\anaconda3\\lib\\site-packages (from nltk) (8.1.7)\n",
      "Requirement already satisfied: joblib in c:\\users\\debor\\anaconda3\\lib\\site-packages (from nltk) (1.2.0)\n",
      "Requirement already satisfied: regex>=2021.8.3 in c:\\users\\debor\\anaconda3\\lib\\site-packages (from nltk) (2023.10.3)\n",
      "Requirement already satisfied: tqdm in c:\\users\\debor\\anaconda3\\lib\\site-packages (from nltk) (4.65.0)\n",
      "Requirement already satisfied: colorama in c:\\users\\debor\\anaconda3\\lib\\site-packages (from click->nltk) (0.4.6)\n"
     ]
    }
   ],
   "source": []
  },
  {
   "cell_type": "code",
   "execution_count": 7,
   "id": "31a7c164-5333-4335-9742-e9e86b866f43",
   "metadata": {},
   "outputs": [
    {
     "name": "stderr",
     "output_type": "stream",
     "text": [
      "[nltk_data] Downloading package punkt to\n",
      "[nltk_data]     C:\\Users\\Arthur\\AppData\\Roaming\\nltk_data...\n",
      "[nltk_data]   Unzipping tokenizers\\punkt.zip.\n"
     ]
    },
    {
     "ename": "LookupError",
     "evalue": "\n**********************************************************************\n  Resource \u001b[93mpunkt_tab\u001b[0m not found.\n  Please use the NLTK Downloader to obtain the resource:\n\n  \u001b[31m>>> import nltk\n  >>> nltk.download('punkt_tab')\n  \u001b[0m\n  For more information see: https://www.nltk.org/data.html\n\n  Attempted to load \u001b[93mtokenizers/punkt_tab/english/\u001b[0m\n\n  Searched in:\n    - 'C:\\\\Users\\\\Arthur/nltk_data'\n    - 'C:\\\\Program Files\\\\WindowsApps\\\\PythonSoftwareFoundation.Python.3.11_3.11.2544.0_x64__qbz5n2kfra8p0\\\\nltk_data'\n    - 'C:\\\\Program Files\\\\WindowsApps\\\\PythonSoftwareFoundation.Python.3.11_3.11.2544.0_x64__qbz5n2kfra8p0\\\\share\\\\nltk_data'\n    - 'C:\\\\Program Files\\\\WindowsApps\\\\PythonSoftwareFoundation.Python.3.11_3.11.2544.0_x64__qbz5n2kfra8p0\\\\lib\\\\nltk_data'\n    - 'C:\\\\Users\\\\Arthur\\\\AppData\\\\Roaming\\\\nltk_data'\n    - 'C:\\\\nltk_data'\n    - 'D:\\\\nltk_data'\n    - 'E:\\\\nltk_data'\n**********************************************************************\n",
     "output_type": "error",
     "traceback": [
      "\u001b[31m---------------------------------------------------------------------------\u001b[39m",
      "\u001b[31mLookupError\u001b[39m                               Traceback (most recent call last)",
      "\u001b[36mCell\u001b[39m\u001b[36m \u001b[39m\u001b[32mIn[7]\u001b[39m\u001b[32m, line 3\u001b[39m\n\u001b[32m      1\u001b[39m nltk.download(\u001b[33m'\u001b[39m\u001b[33mpunkt\u001b[39m\u001b[33m'\u001b[39m)\n\u001b[32m----> \u001b[39m\u001b[32m3\u001b[39m df[\u001b[33m'\u001b[39m\u001b[33mtokens\u001b[39m\u001b[33m'\u001b[39m] = \u001b[43mdf\u001b[49m\u001b[43m[\u001b[49m\u001b[33;43m'\u001b[39;49m\u001b[33;43mmensagem_limpa\u001b[39;49m\u001b[33;43m'\u001b[39;49m\u001b[43m]\u001b[49m\u001b[43m.\u001b[49m\u001b[43mapply\u001b[49m\u001b[43m(\u001b[49m\u001b[43mword_tokenize\u001b[49m\u001b[43m)\u001b[49m\n\u001b[32m      4\u001b[39m df[[\u001b[33m'\u001b[39m\u001b[33mmensagem_limpa\u001b[39m\u001b[33m'\u001b[39m, \u001b[33m'\u001b[39m\u001b[33mtokens\u001b[39m\u001b[33m'\u001b[39m]].head()\n",
      "\u001b[36mFile \u001b[39m\u001b[32m~\\AppData\\Local\\Packages\\PythonSoftwareFoundation.Python.3.11_qbz5n2kfra8p0\\LocalCache\\local-packages\\Python311\\site-packages\\pandas\\core\\series.py:4924\u001b[39m, in \u001b[36mSeries.apply\u001b[39m\u001b[34m(self, func, convert_dtype, args, by_row, **kwargs)\u001b[39m\n\u001b[32m   4789\u001b[39m \u001b[38;5;28;01mdef\u001b[39;00m\u001b[38;5;250m \u001b[39m\u001b[34mapply\u001b[39m(\n\u001b[32m   4790\u001b[39m     \u001b[38;5;28mself\u001b[39m,\n\u001b[32m   4791\u001b[39m     func: AggFuncType,\n\u001b[32m   (...)\u001b[39m\u001b[32m   4796\u001b[39m     **kwargs,\n\u001b[32m   4797\u001b[39m ) -> DataFrame | Series:\n\u001b[32m   4798\u001b[39m \u001b[38;5;250m    \u001b[39m\u001b[33;03m\"\"\"\u001b[39;00m\n\u001b[32m   4799\u001b[39m \u001b[33;03m    Invoke function on values of Series.\u001b[39;00m\n\u001b[32m   4800\u001b[39m \n\u001b[32m   (...)\u001b[39m\u001b[32m   4915\u001b[39m \u001b[33;03m    dtype: float64\u001b[39;00m\n\u001b[32m   4916\u001b[39m \u001b[33;03m    \"\"\"\u001b[39;00m\n\u001b[32m   4917\u001b[39m     \u001b[38;5;28;01mreturn\u001b[39;00m \u001b[43mSeriesApply\u001b[49m\u001b[43m(\u001b[49m\n\u001b[32m   4918\u001b[39m \u001b[43m        \u001b[49m\u001b[38;5;28;43mself\u001b[39;49m\u001b[43m,\u001b[49m\n\u001b[32m   4919\u001b[39m \u001b[43m        \u001b[49m\u001b[43mfunc\u001b[49m\u001b[43m,\u001b[49m\n\u001b[32m   4920\u001b[39m \u001b[43m        \u001b[49m\u001b[43mconvert_dtype\u001b[49m\u001b[43m=\u001b[49m\u001b[43mconvert_dtype\u001b[49m\u001b[43m,\u001b[49m\n\u001b[32m   4921\u001b[39m \u001b[43m        \u001b[49m\u001b[43mby_row\u001b[49m\u001b[43m=\u001b[49m\u001b[43mby_row\u001b[49m\u001b[43m,\u001b[49m\n\u001b[32m   4922\u001b[39m \u001b[43m        \u001b[49m\u001b[43margs\u001b[49m\u001b[43m=\u001b[49m\u001b[43margs\u001b[49m\u001b[43m,\u001b[49m\n\u001b[32m   4923\u001b[39m \u001b[43m        \u001b[49m\u001b[43mkwargs\u001b[49m\u001b[43m=\u001b[49m\u001b[43mkwargs\u001b[49m\u001b[43m,\u001b[49m\n\u001b[32m-> \u001b[39m\u001b[32m4924\u001b[39m \u001b[43m    \u001b[49m\u001b[43m)\u001b[49m\u001b[43m.\u001b[49m\u001b[43mapply\u001b[49m\u001b[43m(\u001b[49m\u001b[43m)\u001b[49m\n",
      "\u001b[36mFile \u001b[39m\u001b[32m~\\AppData\\Local\\Packages\\PythonSoftwareFoundation.Python.3.11_qbz5n2kfra8p0\\LocalCache\\local-packages\\Python311\\site-packages\\pandas\\core\\apply.py:1427\u001b[39m, in \u001b[36mSeriesApply.apply\u001b[39m\u001b[34m(self)\u001b[39m\n\u001b[32m   1424\u001b[39m     \u001b[38;5;28;01mreturn\u001b[39;00m \u001b[38;5;28mself\u001b[39m.apply_compat()\n\u001b[32m   1426\u001b[39m \u001b[38;5;66;03m# self.func is Callable\u001b[39;00m\n\u001b[32m-> \u001b[39m\u001b[32m1427\u001b[39m \u001b[38;5;28;01mreturn\u001b[39;00m \u001b[38;5;28;43mself\u001b[39;49m\u001b[43m.\u001b[49m\u001b[43mapply_standard\u001b[49m\u001b[43m(\u001b[49m\u001b[43m)\u001b[49m\n",
      "\u001b[36mFile \u001b[39m\u001b[32m~\\AppData\\Local\\Packages\\PythonSoftwareFoundation.Python.3.11_qbz5n2kfra8p0\\LocalCache\\local-packages\\Python311\\site-packages\\pandas\\core\\apply.py:1507\u001b[39m, in \u001b[36mSeriesApply.apply_standard\u001b[39m\u001b[34m(self)\u001b[39m\n\u001b[32m   1501\u001b[39m \u001b[38;5;66;03m# row-wise access\u001b[39;00m\n\u001b[32m   1502\u001b[39m \u001b[38;5;66;03m# apply doesn't have a `na_action` keyword and for backward compat reasons\u001b[39;00m\n\u001b[32m   1503\u001b[39m \u001b[38;5;66;03m# we need to give `na_action=\"ignore\"` for categorical data.\u001b[39;00m\n\u001b[32m   1504\u001b[39m \u001b[38;5;66;03m# TODO: remove the `na_action=\"ignore\"` when that default has been changed in\u001b[39;00m\n\u001b[32m   1505\u001b[39m \u001b[38;5;66;03m#  Categorical (GH51645).\u001b[39;00m\n\u001b[32m   1506\u001b[39m action = \u001b[33m\"\u001b[39m\u001b[33mignore\u001b[39m\u001b[33m\"\u001b[39m \u001b[38;5;28;01mif\u001b[39;00m \u001b[38;5;28misinstance\u001b[39m(obj.dtype, CategoricalDtype) \u001b[38;5;28;01melse\u001b[39;00m \u001b[38;5;28;01mNone\u001b[39;00m\n\u001b[32m-> \u001b[39m\u001b[32m1507\u001b[39m mapped = \u001b[43mobj\u001b[49m\u001b[43m.\u001b[49m\u001b[43m_map_values\u001b[49m\u001b[43m(\u001b[49m\n\u001b[32m   1508\u001b[39m \u001b[43m    \u001b[49m\u001b[43mmapper\u001b[49m\u001b[43m=\u001b[49m\u001b[43mcurried\u001b[49m\u001b[43m,\u001b[49m\u001b[43m \u001b[49m\u001b[43mna_action\u001b[49m\u001b[43m=\u001b[49m\u001b[43maction\u001b[49m\u001b[43m,\u001b[49m\u001b[43m \u001b[49m\u001b[43mconvert\u001b[49m\u001b[43m=\u001b[49m\u001b[38;5;28;43mself\u001b[39;49m\u001b[43m.\u001b[49m\u001b[43mconvert_dtype\u001b[49m\n\u001b[32m   1509\u001b[39m \u001b[43m\u001b[49m\u001b[43m)\u001b[49m\n\u001b[32m   1511\u001b[39m \u001b[38;5;28;01mif\u001b[39;00m \u001b[38;5;28mlen\u001b[39m(mapped) \u001b[38;5;129;01mand\u001b[39;00m \u001b[38;5;28misinstance\u001b[39m(mapped[\u001b[32m0\u001b[39m], ABCSeries):\n\u001b[32m   1512\u001b[39m     \u001b[38;5;66;03m# GH#43986 Need to do list(mapped) in order to get treated as nested\u001b[39;00m\n\u001b[32m   1513\u001b[39m     \u001b[38;5;66;03m#  See also GH#25959 regarding EA support\u001b[39;00m\n\u001b[32m   1514\u001b[39m     \u001b[38;5;28;01mreturn\u001b[39;00m obj._constructor_expanddim(\u001b[38;5;28mlist\u001b[39m(mapped), index=obj.index)\n",
      "\u001b[36mFile \u001b[39m\u001b[32m~\\AppData\\Local\\Packages\\PythonSoftwareFoundation.Python.3.11_qbz5n2kfra8p0\\LocalCache\\local-packages\\Python311\\site-packages\\pandas\\core\\base.py:921\u001b[39m, in \u001b[36mIndexOpsMixin._map_values\u001b[39m\u001b[34m(self, mapper, na_action, convert)\u001b[39m\n\u001b[32m    918\u001b[39m \u001b[38;5;28;01mif\u001b[39;00m \u001b[38;5;28misinstance\u001b[39m(arr, ExtensionArray):\n\u001b[32m    919\u001b[39m     \u001b[38;5;28;01mreturn\u001b[39;00m arr.map(mapper, na_action=na_action)\n\u001b[32m--> \u001b[39m\u001b[32m921\u001b[39m \u001b[38;5;28;01mreturn\u001b[39;00m \u001b[43malgorithms\u001b[49m\u001b[43m.\u001b[49m\u001b[43mmap_array\u001b[49m\u001b[43m(\u001b[49m\u001b[43marr\u001b[49m\u001b[43m,\u001b[49m\u001b[43m \u001b[49m\u001b[43mmapper\u001b[49m\u001b[43m,\u001b[49m\u001b[43m \u001b[49m\u001b[43mna_action\u001b[49m\u001b[43m=\u001b[49m\u001b[43mna_action\u001b[49m\u001b[43m,\u001b[49m\u001b[43m \u001b[49m\u001b[43mconvert\u001b[49m\u001b[43m=\u001b[49m\u001b[43mconvert\u001b[49m\u001b[43m)\u001b[49m\n",
      "\u001b[36mFile \u001b[39m\u001b[32m~\\AppData\\Local\\Packages\\PythonSoftwareFoundation.Python.3.11_qbz5n2kfra8p0\\LocalCache\\local-packages\\Python311\\site-packages\\pandas\\core\\algorithms.py:1743\u001b[39m, in \u001b[36mmap_array\u001b[39m\u001b[34m(arr, mapper, na_action, convert)\u001b[39m\n\u001b[32m   1741\u001b[39m values = arr.astype(\u001b[38;5;28mobject\u001b[39m, copy=\u001b[38;5;28;01mFalse\u001b[39;00m)\n\u001b[32m   1742\u001b[39m \u001b[38;5;28;01mif\u001b[39;00m na_action \u001b[38;5;129;01mis\u001b[39;00m \u001b[38;5;28;01mNone\u001b[39;00m:\n\u001b[32m-> \u001b[39m\u001b[32m1743\u001b[39m     \u001b[38;5;28;01mreturn\u001b[39;00m \u001b[43mlib\u001b[49m\u001b[43m.\u001b[49m\u001b[43mmap_infer\u001b[49m\u001b[43m(\u001b[49m\u001b[43mvalues\u001b[49m\u001b[43m,\u001b[49m\u001b[43m \u001b[49m\u001b[43mmapper\u001b[49m\u001b[43m,\u001b[49m\u001b[43m \u001b[49m\u001b[43mconvert\u001b[49m\u001b[43m=\u001b[49m\u001b[43mconvert\u001b[49m\u001b[43m)\u001b[49m\n\u001b[32m   1744\u001b[39m \u001b[38;5;28;01melse\u001b[39;00m:\n\u001b[32m   1745\u001b[39m     \u001b[38;5;28;01mreturn\u001b[39;00m lib.map_infer_mask(\n\u001b[32m   1746\u001b[39m         values, mapper, mask=isna(values).view(np.uint8), convert=convert\n\u001b[32m   1747\u001b[39m     )\n",
      "\u001b[36mFile \u001b[39m\u001b[32mlib.pyx:2972\u001b[39m, in \u001b[36mpandas._libs.lib.map_infer\u001b[39m\u001b[34m()\u001b[39m\n",
      "\u001b[36mFile \u001b[39m\u001b[32m~\\AppData\\Local\\Packages\\PythonSoftwareFoundation.Python.3.11_qbz5n2kfra8p0\\LocalCache\\local-packages\\Python311\\site-packages\\nltk\\tokenize\\__init__.py:142\u001b[39m, in \u001b[36mword_tokenize\u001b[39m\u001b[34m(text, language, preserve_line)\u001b[39m\n\u001b[32m    127\u001b[39m \u001b[38;5;28;01mdef\u001b[39;00m\u001b[38;5;250m \u001b[39m\u001b[34mword_tokenize\u001b[39m(text, language=\u001b[33m\"\u001b[39m\u001b[33menglish\u001b[39m\u001b[33m\"\u001b[39m, preserve_line=\u001b[38;5;28;01mFalse\u001b[39;00m):\n\u001b[32m    128\u001b[39m \u001b[38;5;250m    \u001b[39m\u001b[33;03m\"\"\"\u001b[39;00m\n\u001b[32m    129\u001b[39m \u001b[33;03m    Return a tokenized copy of *text*,\u001b[39;00m\n\u001b[32m    130\u001b[39m \u001b[33;03m    using NLTK's recommended word tokenizer\u001b[39;00m\n\u001b[32m   (...)\u001b[39m\u001b[32m    140\u001b[39m \u001b[33;03m    :type preserve_line: bool\u001b[39;00m\n\u001b[32m    141\u001b[39m \u001b[33;03m    \"\"\"\u001b[39;00m\n\u001b[32m--> \u001b[39m\u001b[32m142\u001b[39m     sentences = [text] \u001b[38;5;28;01mif\u001b[39;00m preserve_line \u001b[38;5;28;01melse\u001b[39;00m \u001b[43msent_tokenize\u001b[49m\u001b[43m(\u001b[49m\u001b[43mtext\u001b[49m\u001b[43m,\u001b[49m\u001b[43m \u001b[49m\u001b[43mlanguage\u001b[49m\u001b[43m)\u001b[49m\n\u001b[32m    143\u001b[39m     \u001b[38;5;28;01mreturn\u001b[39;00m [\n\u001b[32m    144\u001b[39m         token \u001b[38;5;28;01mfor\u001b[39;00m sent \u001b[38;5;129;01min\u001b[39;00m sentences \u001b[38;5;28;01mfor\u001b[39;00m token \u001b[38;5;129;01min\u001b[39;00m _treebank_word_tokenizer.tokenize(sent)\n\u001b[32m    145\u001b[39m     ]\n",
      "\u001b[36mFile \u001b[39m\u001b[32m~\\AppData\\Local\\Packages\\PythonSoftwareFoundation.Python.3.11_qbz5n2kfra8p0\\LocalCache\\local-packages\\Python311\\site-packages\\nltk\\tokenize\\__init__.py:119\u001b[39m, in \u001b[36msent_tokenize\u001b[39m\u001b[34m(text, language)\u001b[39m\n\u001b[32m    109\u001b[39m \u001b[38;5;28;01mdef\u001b[39;00m\u001b[38;5;250m \u001b[39m\u001b[34msent_tokenize\u001b[39m(text, language=\u001b[33m\"\u001b[39m\u001b[33menglish\u001b[39m\u001b[33m\"\u001b[39m):\n\u001b[32m    110\u001b[39m \u001b[38;5;250m    \u001b[39m\u001b[33;03m\"\"\"\u001b[39;00m\n\u001b[32m    111\u001b[39m \u001b[33;03m    Return a sentence-tokenized copy of *text*,\u001b[39;00m\n\u001b[32m    112\u001b[39m \u001b[33;03m    using NLTK's recommended sentence tokenizer\u001b[39;00m\n\u001b[32m   (...)\u001b[39m\u001b[32m    117\u001b[39m \u001b[33;03m    :param language: the model name in the Punkt corpus\u001b[39;00m\n\u001b[32m    118\u001b[39m \u001b[33;03m    \"\"\"\u001b[39;00m\n\u001b[32m--> \u001b[39m\u001b[32m119\u001b[39m     tokenizer = \u001b[43m_get_punkt_tokenizer\u001b[49m\u001b[43m(\u001b[49m\u001b[43mlanguage\u001b[49m\u001b[43m)\u001b[49m\n\u001b[32m    120\u001b[39m     \u001b[38;5;28;01mreturn\u001b[39;00m tokenizer.tokenize(text)\n",
      "\u001b[36mFile \u001b[39m\u001b[32m~\\AppData\\Local\\Packages\\PythonSoftwareFoundation.Python.3.11_qbz5n2kfra8p0\\LocalCache\\local-packages\\Python311\\site-packages\\nltk\\tokenize\\__init__.py:105\u001b[39m, in \u001b[36m_get_punkt_tokenizer\u001b[39m\u001b[34m(language)\u001b[39m\n\u001b[32m     96\u001b[39m \u001b[38;5;129m@functools\u001b[39m.lru_cache\n\u001b[32m     97\u001b[39m \u001b[38;5;28;01mdef\u001b[39;00m\u001b[38;5;250m \u001b[39m\u001b[34m_get_punkt_tokenizer\u001b[39m(language=\u001b[33m\"\u001b[39m\u001b[33menglish\u001b[39m\u001b[33m\"\u001b[39m):\n\u001b[32m     98\u001b[39m \u001b[38;5;250m    \u001b[39m\u001b[33;03m\"\"\"\u001b[39;00m\n\u001b[32m     99\u001b[39m \u001b[33;03m    A constructor for the PunktTokenizer that utilizes\u001b[39;00m\n\u001b[32m    100\u001b[39m \u001b[33;03m    a lru cache for performance.\u001b[39;00m\n\u001b[32m   (...)\u001b[39m\u001b[32m    103\u001b[39m \u001b[33;03m    :type language: str\u001b[39;00m\n\u001b[32m    104\u001b[39m \u001b[33;03m    \"\"\"\u001b[39;00m\n\u001b[32m--> \u001b[39m\u001b[32m105\u001b[39m     \u001b[38;5;28;01mreturn\u001b[39;00m \u001b[43mPunktTokenizer\u001b[49m\u001b[43m(\u001b[49m\u001b[43mlanguage\u001b[49m\u001b[43m)\u001b[49m\n",
      "\u001b[36mFile \u001b[39m\u001b[32m~\\AppData\\Local\\Packages\\PythonSoftwareFoundation.Python.3.11_qbz5n2kfra8p0\\LocalCache\\local-packages\\Python311\\site-packages\\nltk\\tokenize\\punkt.py:1744\u001b[39m, in \u001b[36mPunktTokenizer.__init__\u001b[39m\u001b[34m(self, lang)\u001b[39m\n\u001b[32m   1742\u001b[39m \u001b[38;5;28;01mdef\u001b[39;00m\u001b[38;5;250m \u001b[39m\u001b[34m__init__\u001b[39m(\u001b[38;5;28mself\u001b[39m, lang=\u001b[33m\"\u001b[39m\u001b[33menglish\u001b[39m\u001b[33m\"\u001b[39m):\n\u001b[32m   1743\u001b[39m     PunktSentenceTokenizer.\u001b[34m__init__\u001b[39m(\u001b[38;5;28mself\u001b[39m)\n\u001b[32m-> \u001b[39m\u001b[32m1744\u001b[39m     \u001b[38;5;28;43mself\u001b[39;49m\u001b[43m.\u001b[49m\u001b[43mload_lang\u001b[49m\u001b[43m(\u001b[49m\u001b[43mlang\u001b[49m\u001b[43m)\u001b[49m\n",
      "\u001b[36mFile \u001b[39m\u001b[32m~\\AppData\\Local\\Packages\\PythonSoftwareFoundation.Python.3.11_qbz5n2kfra8p0\\LocalCache\\local-packages\\Python311\\site-packages\\nltk\\tokenize\\punkt.py:1749\u001b[39m, in \u001b[36mPunktTokenizer.load_lang\u001b[39m\u001b[34m(self, lang)\u001b[39m\n\u001b[32m   1746\u001b[39m \u001b[38;5;28;01mdef\u001b[39;00m\u001b[38;5;250m \u001b[39m\u001b[34mload_lang\u001b[39m(\u001b[38;5;28mself\u001b[39m, lang=\u001b[33m\"\u001b[39m\u001b[33menglish\u001b[39m\u001b[33m\"\u001b[39m):\n\u001b[32m   1747\u001b[39m     \u001b[38;5;28;01mfrom\u001b[39;00m\u001b[38;5;250m \u001b[39m\u001b[34;01mnltk\u001b[39;00m\u001b[34;01m.\u001b[39;00m\u001b[34;01mdata\u001b[39;00m\u001b[38;5;250m \u001b[39m\u001b[38;5;28;01mimport\u001b[39;00m find\n\u001b[32m-> \u001b[39m\u001b[32m1749\u001b[39m     lang_dir = \u001b[43mfind\u001b[49m\u001b[43m(\u001b[49m\u001b[33;43mf\u001b[39;49m\u001b[33;43m\"\u001b[39;49m\u001b[33;43mtokenizers/punkt_tab/\u001b[39;49m\u001b[38;5;132;43;01m{\u001b[39;49;00m\u001b[43mlang\u001b[49m\u001b[38;5;132;43;01m}\u001b[39;49;00m\u001b[33;43m/\u001b[39;49m\u001b[33;43m\"\u001b[39;49m\u001b[43m)\u001b[49m\n\u001b[32m   1750\u001b[39m     \u001b[38;5;28mself\u001b[39m._params = load_punkt_params(lang_dir)\n\u001b[32m   1751\u001b[39m     \u001b[38;5;28mself\u001b[39m._lang = lang\n",
      "\u001b[36mFile \u001b[39m\u001b[32m~\\AppData\\Local\\Packages\\PythonSoftwareFoundation.Python.3.11_qbz5n2kfra8p0\\LocalCache\\local-packages\\Python311\\site-packages\\nltk\\data.py:579\u001b[39m, in \u001b[36mfind\u001b[39m\u001b[34m(resource_name, paths)\u001b[39m\n\u001b[32m    577\u001b[39m sep = \u001b[33m\"\u001b[39m\u001b[33m*\u001b[39m\u001b[33m\"\u001b[39m * \u001b[32m70\u001b[39m\n\u001b[32m    578\u001b[39m resource_not_found = \u001b[33mf\u001b[39m\u001b[33m\"\u001b[39m\u001b[38;5;130;01m\\n\u001b[39;00m\u001b[38;5;132;01m{\u001b[39;00msep\u001b[38;5;132;01m}\u001b[39;00m\u001b[38;5;130;01m\\n\u001b[39;00m\u001b[38;5;132;01m{\u001b[39;00mmsg\u001b[38;5;132;01m}\u001b[39;00m\u001b[38;5;130;01m\\n\u001b[39;00m\u001b[38;5;132;01m{\u001b[39;00msep\u001b[38;5;132;01m}\u001b[39;00m\u001b[38;5;130;01m\\n\u001b[39;00m\u001b[33m\"\u001b[39m\n\u001b[32m--> \u001b[39m\u001b[32m579\u001b[39m \u001b[38;5;28;01mraise\u001b[39;00m \u001b[38;5;167;01mLookupError\u001b[39;00m(resource_not_found)\n",
      "\u001b[31mLookupError\u001b[39m: \n**********************************************************************\n  Resource \u001b[93mpunkt_tab\u001b[0m not found.\n  Please use the NLTK Downloader to obtain the resource:\n\n  \u001b[31m>>> import nltk\n  >>> nltk.download('punkt_tab')\n  \u001b[0m\n  For more information see: https://www.nltk.org/data.html\n\n  Attempted to load \u001b[93mtokenizers/punkt_tab/english/\u001b[0m\n\n  Searched in:\n    - 'C:\\\\Users\\\\Arthur/nltk_data'\n    - 'C:\\\\Program Files\\\\WindowsApps\\\\PythonSoftwareFoundation.Python.3.11_3.11.2544.0_x64__qbz5n2kfra8p0\\\\nltk_data'\n    - 'C:\\\\Program Files\\\\WindowsApps\\\\PythonSoftwareFoundation.Python.3.11_3.11.2544.0_x64__qbz5n2kfra8p0\\\\share\\\\nltk_data'\n    - 'C:\\\\Program Files\\\\WindowsApps\\\\PythonSoftwareFoundation.Python.3.11_3.11.2544.0_x64__qbz5n2kfra8p0\\\\lib\\\\nltk_data'\n    - 'C:\\\\Users\\\\Arthur\\\\AppData\\\\Roaming\\\\nltk_data'\n    - 'C:\\\\nltk_data'\n    - 'D:\\\\nltk_data'\n    - 'E:\\\\nltk_data'\n**********************************************************************\n"
     ]
    }
   ],
   "source": [
    "nltk.download('punkt')\n",
    "\n",
    "df['tokens'] = df['mensagem_limpa'].apply(word_tokenize)\n",
    "df[['mensagem_limpa', 'tokens']].head()"
   ]
  },
  {
   "cell_type": "code",
   "execution_count": 8,
   "id": "10a8873b-35c1-433e-934e-3391735608ab",
   "metadata": {},
   "outputs": [
    {
     "name": "stderr",
     "output_type": "stream",
     "text": [
      "[nltk_data] Downloading package stopwords to\n",
      "[nltk_data]     C:\\Users\\Arthur\\AppData\\Roaming\\nltk_data...\n",
      "[nltk_data]   Unzipping corpora\\stopwords.zip.\n"
     ]
    },
    {
     "data": {
      "text/plain": [
       "True"
      ]
     },
     "execution_count": 8,
     "metadata": {},
     "output_type": "execute_result"
    }
   ],
   "source": [
    "# Baixar as stopwords\n",
    "\n",
    "\n",
    "nltk.download('stopwords')  # Baixa lista de stopwords\n"
   ]
  },
  {
   "cell_type": "code",
   "execution_count": 9,
   "id": "0bfe7640-ced4-4eaf-b7a9-11070ca28e41",
   "metadata": {},
   "outputs": [],
   "source": [
    "\n",
    "\n",
    "# Stopwords em inglês\n",
    "stopwords_en = set(stopwords.words('english'))"
   ]
  },
  {
   "cell_type": "code",
   "execution_count": 10,
   "id": "64d85892-9907-4e24-af1b-d8badc0a6cd9",
   "metadata": {},
   "outputs": [
    {
     "data": {
      "text/html": [
       "<div>\n",
       "<style scoped>\n",
       "    .dataframe tbody tr th:only-of-type {\n",
       "        vertical-align: middle;\n",
       "    }\n",
       "\n",
       "    .dataframe tbody tr th {\n",
       "        vertical-align: top;\n",
       "    }\n",
       "\n",
       "    .dataframe thead th {\n",
       "        text-align: right;\n",
       "    }\n",
       "</style>\n",
       "<table border=\"1\" class=\"dataframe\">\n",
       "  <thead>\n",
       "    <tr style=\"text-align: right;\">\n",
       "      <th></th>\n",
       "      <th>mensagem_limpa</th>\n",
       "      <th>tokens</th>\n",
       "      <th>tokens_sem_stopwords</th>\n",
       "    </tr>\n",
       "  </thead>\n",
       "  <tbody>\n",
       "    <tr>\n",
       "      <th>0</th>\n",
       "      <td>go until jurong point crazy available only in ...</td>\n",
       "      <td>[go, until, jurong, point, crazy, available, o...</td>\n",
       "      <td>[go, jurong, point, crazy, available, bugis, n...</td>\n",
       "    </tr>\n",
       "    <tr>\n",
       "      <th>1</th>\n",
       "      <td>ok lar joking wif u oni</td>\n",
       "      <td>[ok, lar, joking, wif, u, oni]</td>\n",
       "      <td>[ok, lar, joking, wif, u, oni]</td>\n",
       "    </tr>\n",
       "    <tr>\n",
       "      <th>2</th>\n",
       "      <td>free entry in a wkly comp to win fa cup final ...</td>\n",
       "      <td>[free, entry, in, a, wkly, comp, to, win, fa, ...</td>\n",
       "      <td>[free, entry, wkly, comp, win, fa, cup, final,...</td>\n",
       "    </tr>\n",
       "    <tr>\n",
       "      <th>3</th>\n",
       "      <td>u dun say so early hor u c already then say</td>\n",
       "      <td>[u, dun, say, so, early, hor, u, c, already, t...</td>\n",
       "      <td>[u, dun, say, early, hor, u, c, already, say]</td>\n",
       "    </tr>\n",
       "    <tr>\n",
       "      <th>4</th>\n",
       "      <td>nah i dont think he goes to usf he lives aroun...</td>\n",
       "      <td>[nah, i, dont, think, he, goes, to, usf, he, l...</td>\n",
       "      <td>[nah, dont, think, goes, usf, lives, around, t...</td>\n",
       "    </tr>\n",
       "  </tbody>\n",
       "</table>\n",
       "</div>"
      ],
      "text/plain": [
       "                                      mensagem_limpa  \\\n",
       "0  go until jurong point crazy available only in ...   \n",
       "1                            ok lar joking wif u oni   \n",
       "2  free entry in a wkly comp to win fa cup final ...   \n",
       "3        u dun say so early hor u c already then say   \n",
       "4  nah i dont think he goes to usf he lives aroun...   \n",
       "\n",
       "                                              tokens  \\\n",
       "0  [go, until, jurong, point, crazy, available, o...   \n",
       "1                     [ok, lar, joking, wif, u, oni]   \n",
       "2  [free, entry, in, a, wkly, comp, to, win, fa, ...   \n",
       "3  [u, dun, say, so, early, hor, u, c, already, t...   \n",
       "4  [nah, i, dont, think, he, goes, to, usf, he, l...   \n",
       "\n",
       "                                tokens_sem_stopwords  \n",
       "0  [go, jurong, point, crazy, available, bugis, n...  \n",
       "1                     [ok, lar, joking, wif, u, oni]  \n",
       "2  [free, entry, wkly, comp, win, fa, cup, final,...  \n",
       "3      [u, dun, say, early, hor, u, c, already, say]  \n",
       "4  [nah, dont, think, goes, usf, lives, around, t...  "
      ]
     },
     "execution_count": 10,
     "metadata": {},
     "output_type": "execute_result"
    }
   ],
   "source": [
    "# Função para filtrar as stopwords de cada lista de tokens\n",
    "def remover_stopwords(tokens):\n",
    "    return [palavra for palavra in tokens if palavra not in stopwords_en]\n",
    "\n",
    "# Aplicar a função\n",
    "df['tokens_sem_stopwords'] = df['tokens'].apply(remover_stopwords)\n",
    "\n",
    "# Visualizar o resultado\n",
    "df[['mensagem_limpa', 'tokens', 'tokens_sem_stopwords']].head()\n"
   ]
  },
  {
   "cell_type": "markdown",
   "id": "4d224537-4445-4251-b986-efbecdb6f065",
   "metadata": {},
   "source": [
    "#### 3. Vetorização dos Dados\n",
    "\n",
    "##### Converter texto em features numéricas usando TF-IDF ou Bag of Words.\n"
   ]
  },
  {
   "cell_type": "markdown",
   "id": "a035bb3e-cd3d-4644-b2cf-20eb65368023",
   "metadata": {},
   "source": [
    "Bag of Words pode dar pesos iguais a todas as palavras, mesmo aquelas que não são tão informativas.\n",
    "\n",
    "TF-IDF geralmente funciona melhor em tarefas de classificação de texto, pois ele destaca as palavras mais relevantes para distinguir entre as classes.\n",
    "\n",
    "* Considerando que nosso objetivo é classificar mensagens como spam ou ham, o TF-IDF tende a ser uma escolha mais eficaz.\n",
    "  "
   ]
  },
  {
   "cell_type": "code",
   "execution_count": 11,
   "id": "4897872a-95d2-454f-afaa-d51e93062c32",
   "metadata": {},
   "outputs": [
    {
     "name": "stdout",
     "output_type": "stream",
     "text": [
      "Formato da matriz TF-IDF: (5572, 8480)\n"
     ]
    }
   ],
   "source": [
    "\n",
    "\n",
    "# Inicializar o vetorizador TF-IDF\n",
    "tfidf_vectorizer = TfidfVectorizer()\n",
    "\n",
    "# Ajustar o vetorizador aos tokens (para criar o vocabulário)\n",
    "tfidf_vectorizer.fit(df['tokens_sem_stopwords'].apply(lambda x: ' '.join(x)))\n",
    "\n",
    "# Transformar os tokens em vetores TF-IDF\n",
    "tfidf_vectors = tfidf_vectorizer.transform(df['tokens_sem_stopwords'].apply(lambda x: ' '.join(x)))\n",
    "\n",
    "print(\"Formato da matriz TF-IDF:\", tfidf_vectors.shape)"
   ]
  },
  {
   "cell_type": "markdown",
   "id": "3ce6b6f8-5c15-44c8-8ac6-a7a5a902db69",
   "metadata": {},
   "source": [
    "#### 4. Divisão dos Dados\n"
   ]
  },
  {
   "cell_type": "code",
   "execution_count": 12,
   "id": "dd4a7c05-1fa0-4ee5-bf27-0dfb5fc0cec8",
   "metadata": {},
   "outputs": [
    {
     "name": "stdout",
     "output_type": "stream",
     "text": [
      "Distribuição original no treino:\n",
      "label\n",
      "ham     3377\n",
      "spam     523\n",
      "Name: count, dtype: int64\n",
      "\n",
      "Distribuição após SMOTE:\n",
      "label\n",
      "spam    3377\n",
      "ham     3377\n",
      "Name: count, dtype: int64\n"
     ]
    }
   ],
   "source": [
    "# Separar o dataset em conjuntos de treino (70%) e teste (30%)\n",
    "\n",
    "\n",
    "\n",
    "# Features\n",
    "X = tfidf_vectors\n",
    "\n",
    "# Rótulos\n",
    "y = df['label']\n",
    "\n",
    "# Divisão em treino (70%) e teste (30%)\n",
    "X_train, X_test, y_train, y_test = train_test_split(\n",
    "    X, y, test_size=0.3, random_state=42, stratify=y\n",
    ")\n",
    "\n",
    "# Visualizar distribuição original das classes no treino\n",
    "print(\"Distribuição original no treino:\")\n",
    "print(pd.Series(y_train).value_counts())\n",
    "\n",
    "# Aplicando SMOTE para balancear os dados no conjunto de treino\n",
    "\n",
    "smote = SMOTE(random_state=42)\n",
    "X_train_resampled, y_train_resampled = smote.fit_resample(X_train, y_train)\n",
    "\n",
    "# Visualizar distribuição após o balanceamento\n",
    "print(\"\\nDistribuição após SMOTE:\")\n",
    "print(pd.Series(y_train_resampled).value_counts())"
   ]
  },
  {
   "cell_type": "markdown",
   "id": "49dcd8f8-213a-4139-8eca-82fe42dff006",
   "metadata": {},
   "source": [
    "##### O conjunto de treino tinha desequilíbrio entre as classes:\n",
    "\n",
    "ham: 3.377 mensagens (mensagens legítimas)\n",
    "\n",
    "spam: 523 mensagens (mensagens indesejadas)\n",
    "\n",
    "O SMOTE (Synthetic Minority Over-sampling Technique) foi aplicado, criando exemplos sintéticos da classe minoritária (spam) até que ela tivesse a mesma quantidade de exemplos que a classe majoritária"
   ]
  },
  {
   "cell_type": "markdown",
   "id": "56f4f181-5f48-4944-81eb-4f189b28426c",
   "metadata": {},
   "source": [
    "### 5. Treinamento de Modelos e 6. Avaliação dos modelos\n",
    "\n",
    "#### (Os testes e avaliações dos modelos foram desenvolvidos na mesma etapa)"
   ]
  },
  {
   "cell_type": "markdown",
   "id": "d727da5e-7666-4bfc-a92d-1d075bf71b18",
   "metadata": {},
   "source": [
    "##### *SVM LINEAR*"
   ]
  },
  {
   "cell_type": "code",
   "execution_count": 13,
   "id": "ee78c877-78ea-4984-970a-c4a261234699",
   "metadata": {
    "scrolled": true
   },
   "outputs": [
    {
     "name": "stdout",
     "output_type": "stream",
     "text": [
      "Acurácia: 0.9838516746411483\n",
      "\n",
      "Relatório de Classificação:\n",
      "\n",
      "              precision    recall  f1-score   support\n",
      "\n",
      "         ham       0.98      1.00      0.99      1448\n",
      "        spam       0.98      0.90      0.94       224\n",
      "\n",
      "    accuracy                           0.98      1672\n",
      "   macro avg       0.98      0.95      0.96      1672\n",
      "weighted avg       0.98      0.98      0.98      1672\n",
      "\n"
     ]
    }
   ],
   "source": [
    "# SVM Linear\n",
    "\n",
    "\n",
    "\n",
    "# Treinar o modelo com os dados balanceados\n",
    "modelo_svm = LinearSVC()\n",
    "modelo_svm.fit(X_train_resampled, y_train_resampled)\n",
    "\n",
    "# Previsões com os dados de teste\n",
    "y_pred = modelo_svm.predict(X_test)\n",
    "\n",
    "# Relatório de classificação\n",
    "print(\"Acurácia:\", accuracy_score(y_test, y_pred))\n",
    "print(\"\\nRelatório de Classificação:\\n\")\n",
    "print(classification_report(y_test, y_pred))\n",
    "\n"
   ]
  },
  {
   "cell_type": "code",
   "execution_count": 15,
   "id": "fc1b5e3c-a0ba-42bb-9c98-9c0f933c6704",
   "metadata": {},
   "outputs": [
    {
     "data": {
      "image/png": "[encoded data removed]",
      "text/plain": [
       "<Figure size 600x400 with 2 Axes>"
      ]
     },
     "metadata": {},
     "output_type": "display_data"
    }
   ],
   "source": [
    "# Matriz de Confusão\n",
    "cm = confusion_matrix(y_test, y_pred)\n",
    "\n",
    "plt.figure(figsize=(6, 4))\n",
    "sns.heatmap(cm, annot=True, fmt='d', cmap='Blues',\n",
    "            xticklabels=['ham', 'spam'],\n",
    "            yticklabels=['ham', 'spam'],\n",
    "            linewidths=.5, linecolor='black') # Adicionando linewidths e linecolor\n",
    "plt.xlabel('Previsto')\n",
    "plt.ylabel('Real')\n",
    "plt.title('Matriz de Confusão - SVM Linear')\n",
    "plt.show()"
   ]
  },
  {
   "cell_type": "markdown",
   "id": "e4efd997-89bf-4a31-83a4-29b8646f5621",
   "metadata": {},
   "source": [
    "##### Interpretação:\n",
    "\n",
    "* Acurácia: O modelo classificou corretamente 98.38% de todas as mensagens no conjunto de teste.\n",
    "\n",
    "---------------------------------\n",
    "\n",
    "* Verdadeiros Positivos (spam bem classificados): 202\n",
    "* Verdadeiros Negativos (ham bem classificados): 1444\n",
    "* Falsos Positivos (ham classificados como spam): 4\n",
    "* Falsos Negativos (spam classificados como ham): 22\n",
    "\n",
    "##### Resumo\n",
    "\n",
    "* Precisão (Precision): das mensagens classificadas como spam, 98% realmente eram spam.\n",
    "\n",
    "* Recall (De todas as mensagens que realmente eram spam, quantas o modelo conseguiu encontrar?): o modelo encontrou 90% dos spams \n",
    "\n",
    "* F1-Score (equilíbrio entre precisão e recall): 0.94 para spam\n",
    "\n",
    "O modelo SVM Linear demonstrou um bom equilíbrio entre precisão e recall na detecção de spam. Ele apresenta uma alta precisão (98%), garantindo que a maioria das mensagens classificadas como spam sejam realmente spam, e um recall de 90%, indicando que ele detecta a grande maioria dos spams reais. A acurácia geral do modelo é alta, refletindo um desempenho robusto em ambas as classes."
   ]
  },
  {
   "cell_type": "markdown",
   "id": "6bc7c5dd-93f7-454d-bbc9-cc3a7bcf6e88",
   "metadata": {},
   "source": [
    "##### *NAIVE BAYES MULTINOMIAL*"
   ]
  },
  {
   "cell_type": "code",
   "execution_count": 14,
   "id": "f9221ff8-44c8-4442-8fbb-4a9b5c9d3d3e",
   "metadata": {},
   "outputs": [
    {
     "name": "stdout",
     "output_type": "stream",
     "text": [
      "Acurácia: 0.9629186602870813\n",
      "Relatório de Classificação - Naive Bayes:\n",
      "              precision    recall  f1-score   support\n",
      "\n",
      "         ham       0.96      1.00      0.98      1448\n",
      "        spam       1.00      0.72      0.84       224\n",
      "\n",
      "    accuracy                           0.96      1672\n",
      "   macro avg       0.98      0.86      0.91      1672\n",
      "weighted avg       0.96      0.96      0.96      1672\n",
      "\n"
     ]
    }
   ],
   "source": [
    "\n",
    "\n",
    "# Treinar o modelo\n",
    "nb_model = MultinomialNB()\n",
    "nb_model.fit(X_train, y_train)\n",
    "\n",
    "# Previsão com os dados de teste\n",
    "y_pred_nb = nb_model.predict(X_test)\n",
    "\n",
    "# Relatório de classificação\n",
    "print(\"Acurácia:\", accuracy_score(y_test, y_pred_nb))\n",
    "print(\"Relatório de Classificação - Naive Bayes:\")\n",
    "print(classification_report(y_test, y_pred_nb, target_names=['ham', 'spam']))"
   ]
  },
  {
   "cell_type": "code",
   "execution_count": 15,
   "id": "cddad9f3-5db5-4e43-8574-b4f5426cc683",
   "metadata": {},
   "outputs": [
    {
     "data": {
      "image/png": "[encoded data removed]",
      "text/plain": [
       "<Figure size 600x600 with 2 Axes>"
      ]
     },
     "metadata": {},
     "output_type": "display_data"
    }
   ],
   "source": [
    "# Matriz de confusão - Naive Bayes\n",
    "cm_nb = confusion_matrix(y_test, y_pred_nb)\n",
    "disp = ConfusionMatrixDisplay(confusion_matrix=cm_nb, display_labels=['ham', 'spam'])\n",
    "\n",
    "fig, ax = plt.subplots(figsize=(6, 6))\n",
    "disp.plot(cmap='Blues', ax=ax, values_format='d')\n",
    "plt.title(\"Matriz de Confusão - Naive Bayes Multinomial\")\n",
    "plt.xlabel(\"Previsto\")\n",
    "plt.ylabel(\"Real\")\n",
    "plt.show()"
   ]
  },
  {
   "cell_type": "markdown",
   "id": "91bc78c0-f0fa-4c6c-b181-2bf845bbf569",
   "metadata": {},
   "source": [
    "##### Interpretação:\n",
    "\n",
    "* Acurácia: O modelo classificou corretamente 96.23% de todas as mensagens no conjunto de teste.\n",
    "\n",
    "---------------------------------\n",
    "\n",
    "* Verdadeiros Positivos (spam bem classificados): 161\n",
    "* Verdadeiros Negativos (ham bem classificados): 1448\n",
    "* Falsos Positivos (ham classificados como spam): 0\n",
    "* Falsos Negativos (spam classificados como ham): 63\n",
    "\n",
    "##### Resumo:\n",
    "\n",
    "* Precisão (Precision) para spam: Das mensagens classificadas como spam, 100% realmente eram spam.\n",
    "\n",
    "* Recall (De todas as mensagens que realmente eram spam, quantas o modelo conseguiu encontrar?): O modelo encontrou 72% dos spams.\n",
    "  \n",
    "* F1-Score (equilíbrio entre precisão e recall para spam): 0.84 para spam.\n",
    "\n",
    "Em resumo, o modelo Naive Bayes Multinomial apresenta uma precisão perfeita para a detecção de spam, o que significa que quando ele identifica uma mensagem como spam, é muito provável que ela realmente seja. No entanto, o recall para spam é de 72%, indicando que o modelo deixa de identificar uma parte das mensagens de spam reais. O desempenho para a classe 'ham' é muito bom, com precisão e recall elevados. A acurácia geral do modelo é de 96%."
   ]
  },
  {
   "cell_type": "markdown",
   "id": "9df9ee3c-7862-4da0-91c1-7d3a22ebbbe8",
   "metadata": {},
   "source": [
    "##### *RANDOM FOREST ou REGRESSÃO LOGÍSTICA*"
   ]
  },
  {
   "cell_type": "code",
   "execution_count": 16,
   "id": "b0359881-7d44-4664-9938-f2f00537ea5d",
   "metadata": {},
   "outputs": [
    {
     "name": "stdout",
     "output_type": "stream",
     "text": [
      "\n",
      "Acurácia - Random Forest: 0.9784688995215312\n",
      "\n",
      "Relatório de Classificação - Random Forest:\n",
      "              precision    recall  f1-score   support\n",
      "\n",
      "         ham       0.98      1.00      0.99      1448\n",
      "        spam       1.00      0.84      0.91       224\n",
      "\n",
      "    accuracy                           0.98      1672\n",
      "   macro avg       0.99      0.92      0.95      1672\n",
      "weighted avg       0.98      0.98      0.98      1672\n",
      "\n"
     ]
    }
   ],
   "source": [
    "\n",
    "\n",
    "# Treinar o modelo\n",
    "rf_model = RandomForestClassifier(random_state=42)\n",
    "rf_model.fit(X_train_resampled, y_train_resampled)\n",
    "\n",
    "# Previsão com os dados de teste\n",
    "y_pred_rf = rf_model.predict(X_test)\n",
    "\n",
    "# Relatório de classificação\n",
    "print(\"\\nAcurácia - Random Forest:\", accuracy_score(y_test, y_pred_rf))\n",
    "print(\"\\nRelatório de Classificação - Random Forest:\")\n",
    "print(classification_report(y_test, y_pred_rf, target_names=['ham', 'spam']))\n"
   ]
  },
  {
   "cell_type": "code",
   "execution_count": 17,
   "id": "3da658bf-a17c-42f1-b5b0-7cd1c1514f70",
   "metadata": {},
   "outputs": [
    {
     "data": {
      "image/png": "[encoded data removed]",
      "text/plain": [
       "<Figure size 600x600 with 2 Axes>"
      ]
     },
     "metadata": {},
     "output_type": "display_data"
    }
   ],
   "source": [
    "# Matriz de Confusão - Random Forest\n",
    "cm_rf = confusion_matrix(y_test, y_pred_rf)\n",
    "disp_rf = ConfusionMatrixDisplay(confusion_matrix=cm_rf, display_labels=['ham', 'spam'])\n",
    "\n",
    "\n",
    "fig, ax = plt.subplots(figsize=(6, 6))\n",
    "disp_rf.plot(cmap='Blues', ax=ax, values_format='d') \n",
    "plt.title(\"Matriz de Confusão - Random Forest\")\n",
    "plt.xlabel(\"Previsto\")\n",
    "plt.ylabel(\"Real\")\n",
    "plt.show()"
   ]
  },
  {
   "cell_type": "markdown",
   "id": "41da81d8-8eeb-4d6e-aee6-4bc256bb9754",
   "metadata": {},
   "source": [
    "##### Interpretação:\n",
    "\n",
    "* Acurácia: O modelo classificou corretamente 97.96% de todas as mensagens no conjunto de teste.\n",
    "\n",
    "---------------------------------\n",
    "\n",
    "* Verdadeiros Positivos (spam bem classificados): 191\n",
    "* Verdadeiros Negativos (ham bem classificados): 1447\n",
    "* Falsos Positivos (ham classificados como spam): 1\n",
    "* Falsos Negativos (spam classificados como ham): 33\n",
    "\n",
    "##### Resumo:\n",
    "\n",
    "* Precisão (Precision) para spam: Das mensagens classificadas como spam, 99% realmente eram spam.\n",
    "\n",
    "* Recall (De todas as mensagens que realmente eram spam, quantas o modelo conseguiu encontrar?): O modelo encontrou 85% dos spams.\n",
    "\n",
    "* F1-Score (equilíbrio entre precisão e recall para spam): 0.92 para spam.\n",
    "\n",
    "Em resumo, o modelo Random Forest demonstra uma precisão muito alta na detecção de spam, o que significa que quando ele identifica uma mensagem como spam, é extremamente provável que ela realmente seja. O recall para spam é de 85%, indicando que o modelo identifica uma grande parte das mensagens de spam reais. O desempenho para a classe 'ham' é quase perfeito. A acurácia geral do modelo é de 98%, mostrando um alto desempenho \n"
   ]
  },
  {
   "cell_type": "markdown",
   "id": "6aaea95b-c306-460d-880d-29122048a7b1",
   "metadata": {},
   "source": [
    "##### Métrica principal escolhida: F1-Score\n",
    "\n",
    "A métrica principal escolhida para a avaliação do modelo de classificação de SMS foi o F1-score, pois reflete melhor o desempenho do modelo diante do desbalanceamento do dataset e atende ao objetivo de identificar as mensagens como spam, minimizando tanto os falsos negativos quanto os falsos positivos.\n",
    "\n",
    "* A precisão minimiza falsos positivos (mensagens ham classificadas como spam);\n",
    "\n",
    "* O recall minimiza falsos negativos (spams não detectados);\n",
    "\n",
    "* O F1-score considera ambos, fornecendo um valor único que representa esse equilíbrio."
   ]
  },
  {
   "cell_type": "markdown",
   "id": "352dc6b1-dcdb-4014-b08e-e8ff771cd9cb",
   "metadata": {},
   "source": [
    "#### 7. Otimização \n",
    "\n",
    "Ajuste de hiperparâmetros"
   ]
  },
  {
   "cell_type": "markdown",
   "id": "9a3b114b-c5de-4d02-8b94-f9884800926b",
   "metadata": {},
   "source": [
    "##### *SVM LINEAR - Otimizado*"
   ]
  },
  {
   "cell_type": "markdown",
   "id": "d19032cc-2ea2-4266-b351-373b22ac7e70",
   "metadata": {},
   "source": [
    "*GridSearchCV*"
   ]
  },
  {
   "cell_type": "code",
   "execution_count": 18,
   "id": "a8c55a68-eff5-42db-a3c6-010fbec475ed",
   "metadata": {},
   "outputs": [
    {
     "name": "stdout",
     "output_type": "stream",
     "text": [
      "\n",
      " Melhores parâmetros SVM Linear: {'C': 1, 'class_weight': None}\n",
      "\n",
      " Acurácia - SVM Linear: 0.9838516746411483\n",
      "\n",
      " Relatório de Classificação - SVM Linear (Otimizado):\n",
      "              precision    recall  f1-score   support\n",
      "\n",
      "         ham       0.98      1.00      0.99      1448\n",
      "        spam       0.98      0.90      0.94       224\n",
      "\n",
      "    accuracy                           0.98      1672\n",
      "   macro avg       0.98      0.95      0.96      1672\n",
      "weighted avg       0.98      0.98      0.98      1672\n",
      "\n"
     ]
    }
   ],
   "source": [
    "\n",
    "\n",
    "# Parâmetros válidos para SVM Linear (LinearSVC)\n",
    "param_grid_svm = {\n",
    "    'C': [0.1, 1, 10, 100],\n",
    "    'class_weight': [None, 'balanced']\n",
    "}\n",
    "\n",
    "# GridSearchCV com combinações válidas\n",
    "grid_search_svm = GridSearchCV(\n",
    "    estimator=LinearSVC(penalty='l2', loss='squared_hinge', dual=True, max_iter=10000, random_state=42),\n",
    "    param_grid=param_grid_svm,\n",
    "    cv=5,\n",
    "    scoring='f1_macro',\n",
    "    n_jobs=-1\n",
    ")\n",
    "\n",
    "# Treinamento\n",
    "grid_search_svm.fit(X_train_resampled, y_train_resampled)\n",
    "\n",
    "# Resultados\n",
    "best_params_svm = grid_search_svm.best_params_\n",
    "print(\"\\n Melhores parâmetros SVM Linear:\", best_params_svm)\n",
    "\n",
    "best_svm_model = grid_search_svm.best_estimator_\n",
    "y_pred_svm_optimized = best_svm_model.predict(X_test)\n",
    "\n",
    "# Avaliação\n",
    "print(\"\\n Acurácia - SVM Linear:\", accuracy_score(y_test, y_pred_svm_optimized))\n",
    "print(\"\\n Relatório de Classificação - SVM Linear (Otimizado):\")\n",
    "print(classification_report(y_test, y_pred_svm_optimized, target_names=['ham', 'spam']))"
   ]
  },
  {
   "cell_type": "code",
   "execution_count": 19,
   "id": "eb316a21-68c0-4a32-914f-2a395b813add",
   "metadata": {},
   "outputs": [
    {
     "data": {
      "image/png": "[encoded data removed]",
      "text/plain": [
       "<Figure size 640x480 with 2 Axes>"
      ]
     },
     "metadata": {},
     "output_type": "display_data"
    }
   ],
   "source": [
    "# Matriz de confusão - CVM Linear - otimizado - GridSearchCV\n",
    "\n",
    "cm_svm_optimized = confusion_matrix(y_test, y_pred_svm_optimized)\n",
    "disp_svm_optimized = ConfusionMatrixDisplay(confusion_matrix=cm_svm_optimized, display_labels=['ham', 'spam'])\n",
    "disp_svm_optimized.plot(cmap='Blues')\n",
    "plt.title(\"Matriz de Confusão - SVM Linear (Otimizado - GridSearchCV)\")\n",
    "plt.xlabel(\"Previsto\")\n",
    "plt.ylabel(\"Real\")\n",
    "plt.show()"
   ]
  },
  {
   "cell_type": "markdown",
   "id": "b0175d46-54a8-4b4f-8f5d-ce88945224fe",
   "metadata": {},
   "source": [
    "*RandomizedSearchCV*"
   ]
  },
  {
   "cell_type": "code",
   "execution_count": 20,
   "id": "f76af5b6-d3b8-423b-9242-72aea2b9d5dd",
   "metadata": {},
   "outputs": [
    {
     "name": "stdout",
     "output_type": "stream",
     "text": [
      "\n",
      "Melhores parâmetros encontrados (RandomizedSearchCV): {'C': np.float64(37.464011884736244), 'class_weight': None}\n",
      "\n",
      "Acurácia - SVM Linear (RandomizedSearchCV): 0.9826555023923444\n",
      "\n",
      "Relatório de Classificação - SVM Linear (RandomizedSearchCV):\n",
      "              precision    recall  f1-score   support\n",
      "\n",
      "         ham       0.98      1.00      0.99      1448\n",
      "        spam       0.98      0.89      0.93       224\n",
      "\n",
      "    accuracy                           0.98      1672\n",
      "   macro avg       0.98      0.94      0.96      1672\n",
      "weighted avg       0.98      0.98      0.98      1672\n",
      "\n"
     ]
    }
   ],
   "source": [
    "\n",
    "\n",
    "param_dist_svm = {\n",
    "    'C': uniform(loc=0.01, scale=100),  # valores contínuos entre 0.01 e 100\n",
    "    'class_weight': [None, 'balanced']\n",
    "}\n",
    "\n",
    "# Instância do modelo SVM Linear\n",
    "svm_model = LinearSVC(penalty='l2', loss='squared_hinge', dual=True, max_iter=10000, random_state=42)\n",
    "\n",
    "# RandomizedSearchCV\n",
    "random_search_svm = RandomizedSearchCV(\n",
    "    estimator=svm_model,\n",
    "    param_distributions=param_dist_svm,\n",
    "    n_iter=20,\n",
    "    cv=5,\n",
    "    scoring='f1_macro',\n",
    "    n_jobs=-1,\n",
    "    random_state=42\n",
    ")\n",
    "\n",
    "# Treinamento\n",
    "random_search_svm.fit(X_train_resampled, y_train_resampled)\n",
    "\n",
    "# Resultados\n",
    "best_params_random = random_search_svm.best_params_\n",
    "print(\"\\nMelhores parâmetros encontrados (RandomizedSearchCV):\", best_params_random)\n",
    "\n",
    "# Avaliação\n",
    "best_random_model = random_search_svm.best_estimator_\n",
    "y_pred_random = best_random_model.predict(X_test)\n",
    "\n",
    "print(\"\\nAcurácia - SVM Linear (RandomizedSearchCV):\", accuracy_score(y_test, y_pred_random))\n",
    "print(\"\\nRelatório de Classificação - SVM Linear (RandomizedSearchCV):\")\n",
    "print(classification_report(y_test, y_pred_random, target_names=['ham', 'spam']))"
   ]
  },
  {
   "cell_type": "code",
   "execution_count": 21,
   "id": "73ce6bfc-309f-48db-a9e0-55d3d9d54d71",
   "metadata": {},
   "outputs": [
    {
     "data": {
      "image/png": "[encoded data removed]",
      "text/plain": [
       "<Figure size 640x480 with 2 Axes>"
      ]
     },
     "metadata": {},
     "output_type": "display_data"
    }
   ],
   "source": [
    "# Matriz de confusão - SVM Linear - otimizado - RandomizedSearchCV\n",
    "cm_svm_random = confusion_matrix(y_test, y_pred_random)\n",
    "disp_svm_random = ConfusionMatrixDisplay(confusion_matrix=cm_svm_random, display_labels=['ham', 'spam'])\n",
    "disp_svm_random.plot(cmap='Blues')\n",
    "plt.title(\"Matriz de Confusão - SVM Linear (Otimizado - RandomizedSearchCV)\")\n",
    "plt.xlabel(\"Previsto\")\n",
    "plt.ylabel(\"Real\")\n",
    "plt.show()"
   ]
  },
  {
   "cell_type": "code",
   "execution_count": 22,
   "id": "04e6dcf1-2d32-46fc-b0c2-5c73e770bdf6",
   "metadata": {
    "scrolled": true
   },
   "outputs": [
    {
     "name": "stdout",
     "output_type": "stream",
     "text": [
      "\n",
      "Resumo Comparativo - SVM Linear:\n",
      "\n"
     ]
    },
    {
     "data": {
      "text/html": [
       "<div>\n",
       "<style scoped>\n",
       "    .dataframe tbody tr th:only-of-type {\n",
       "        vertical-align: middle;\n",
       "    }\n",
       "\n",
       "    .dataframe tbody tr th {\n",
       "        vertical-align: top;\n",
       "    }\n",
       "\n",
       "    .dataframe thead th {\n",
       "        text-align: right;\n",
       "    }\n",
       "</style>\n",
       "<table border=\"1\" class=\"dataframe\">\n",
       "  <thead>\n",
       "    <tr style=\"text-align: right;\">\n",
       "      <th></th>\n",
       "      <th>Sem Otimização</th>\n",
       "      <th>GridSearchCV</th>\n",
       "      <th>RandomizedSearchCV</th>\n",
       "    </tr>\n",
       "  </thead>\n",
       "  <tbody>\n",
       "    <tr>\n",
       "      <th>Acurácia</th>\n",
       "      <td>0.9839</td>\n",
       "      <td>0.9839</td>\n",
       "      <td>0.9827</td>\n",
       "    </tr>\n",
       "    <tr>\n",
       "      <th>Precisão (spam)</th>\n",
       "      <td>0.9805</td>\n",
       "      <td>0.9805</td>\n",
       "      <td>0.9803</td>\n",
       "    </tr>\n",
       "    <tr>\n",
       "      <th>Recall (spam)</th>\n",
       "      <td>0.8973</td>\n",
       "      <td>0.8973</td>\n",
       "      <td>0.8884</td>\n",
       "    </tr>\n",
       "    <tr>\n",
       "      <th>F1-Score (spam)</th>\n",
       "      <td>0.9371</td>\n",
       "      <td>0.9371</td>\n",
       "      <td>0.9321</td>\n",
       "    </tr>\n",
       "  </tbody>\n",
       "</table>\n",
       "</div>"
      ],
      "text/plain": [
       "                 Sem Otimização  GridSearchCV  RandomizedSearchCV\n",
       "Acurácia                 0.9839        0.9839              0.9827\n",
       "Precisão (spam)          0.9805        0.9805              0.9803\n",
       "Recall (spam)            0.8973        0.8973              0.8884\n",
       "F1-Score (spam)          0.9371        0.9371              0.9321"
      ]
     },
     "metadata": {},
     "output_type": "display_data"
    }
   ],
   "source": [
    "\n",
    "\n",
    "# Métricas do modelo sem otimização\n",
    "metrics_default = {\n",
    "    'Acurácia': accuracy_score(y_test, y_pred),\n",
    "    'Precisão (spam)': precision_score(y_test, y_pred, pos_label='spam'),\n",
    "    'Recall (spam)': recall_score(y_test, y_pred, pos_label='spam'),\n",
    "    'F1-Score (spam)': f1_score(y_test, y_pred, pos_label='spam'),\n",
    "}\n",
    "\n",
    "# Métricas do modelo com GridSearchCV\n",
    "metrics_grid = {\n",
    "    'Acurácia': accuracy_score(y_test, y_pred_svm_optimized),\n",
    "    'Precisão (spam)': precision_score(y_test, y_pred_svm_optimized, pos_label='spam'),\n",
    "    'Recall (spam)': recall_score(y_test, y_pred_svm_optimized, pos_label='spam'),\n",
    "    'F1-Score (spam)': f1_score(y_test, y_pred_svm_optimized, pos_label='spam'),\n",
    "}\n",
    "\n",
    "# Métricas do modelo com RandomizedSearchCV\n",
    "metrics_random = {\n",
    "    'Acurácia': accuracy_score(y_test, y_pred_random),\n",
    "    'Precisão (spam)': precision_score(y_test, y_pred_random, pos_label='spam'),\n",
    "    'Recall (spam)': recall_score(y_test, y_pred_random, pos_label='spam'),\n",
    "    'F1-Score (spam)': f1_score(y_test, y_pred_random, pos_label='spam'),\n",
    "}\n",
    "\n",
    "\n",
    "df_comparativo = pd.DataFrame({\n",
    "    'Sem Otimização': metrics_default,\n",
    "    'GridSearchCV': metrics_grid,\n",
    "    'RandomizedSearchCV': metrics_random\n",
    "})\n",
    "\n",
    "\n",
    "print(\"\\nResumo Comparativo - SVM Linear:\\n\")\n",
    "display(df_comparativo.round(4))\n",
    "\n",
    "\n",
    "\n"
   ]
  },
  {
   "cell_type": "markdown",
   "id": "9d743e5f-5708-44fc-a3f3-a5ae986e0d5c",
   "metadata": {},
   "source": [
    "A comparação entre os três modelos de SVM Linear sem otimização, com GridSearchCV e com RandomizedSearchCV, mostrou que os dois primeiros tiveram desempenho idêntico: acurácia de 98,39% e F1-score (spam) de 0,9371. Isso indica que os hiperparâmetros padrão do modelo já estavam bem ajustados para esse conjunto de dados.\n",
    "O modelo com RandomizedSearchCV teve um desempenho levemente inferior, com acurácia de 98,27% e F1-score de 0,9321, principalmente por um recall menor para a classe \"spam\".\n",
    "No geral, os três modelos foram eficazes, mas o ajuste com GridSearchCV não trouxe melhorias, e o RandomizedSearchCV teve uma pequena queda no desempenho."
   ]
  },
  {
   "cell_type": "markdown",
   "id": "c25ad974-984c-4f19-b2fa-961de5e07e15",
   "metadata": {},
   "source": [
    "##### *Naive Bayes Multinomial - Otimizado*"
   ]
  },
  {
   "cell_type": "markdown",
   "id": "9ccab413-7f54-4d93-8650-1dcf0f6459d1",
   "metadata": {},
   "source": [
    "*GridSearchCV*"
   ]
  },
  {
   "cell_type": "code",
   "execution_count": 23,
   "id": "98308a3b-4144-4006-9d9c-d5e9f838681c",
   "metadata": {},
   "outputs": [
    {
     "name": "stdout",
     "output_type": "stream",
     "text": [
      "\n",
      "Melhores parâmetros (GridSearchCV): {'alpha': 0.1}\n",
      "\n",
      "Acurácia - Naive Bayes (GridSearchCV): 0.9742822966507177\n",
      "\n",
      "Relatório de Classificação - Naive Bayes (GridSearchCV):\n",
      "              precision    recall  f1-score   support\n",
      "\n",
      "         ham       0.98      0.99      0.99      1448\n",
      "        spam       0.91      0.90      0.90       224\n",
      "\n",
      "    accuracy                           0.97      1672\n",
      "   macro avg       0.95      0.94      0.94      1672\n",
      "weighted avg       0.97      0.97      0.97      1672\n",
      "\n"
     ]
    }
   ],
   "source": [
    "\n",
    "\n",
    "# Definir os hiperparâmetros a serem testados\n",
    "param_grid_nb = {\n",
    "    'alpha': [0.001, 0.01, 0.1, 0.5, 1.0, 2.0, 5.0]\n",
    "}\n",
    "\n",
    "# Instanciar o modelo\n",
    "nb_model = MultinomialNB()\n",
    "\n",
    "# GridSearchCV\n",
    "grid_search_nb = GridSearchCV(\n",
    "    estimator=nb_model,\n",
    "    param_grid=param_grid_nb,\n",
    "    cv=5,\n",
    "    scoring='f1_macro',\n",
    "    n_jobs=-1\n",
    ")\n",
    "\n",
    "# Treinamento\n",
    "grid_search_nb.fit(X_train, y_train)\n",
    "\n",
    "# Melhor modelo e predição\n",
    "best_nb_grid = grid_search_nb.best_estimator_\n",
    "y_pred_nb_grid = best_nb_grid.predict(X_test)\n",
    "\n",
    "\n",
    "print(\"\\nMelhores parâmetros (GridSearchCV):\", grid_search_nb.best_params_)\n",
    "print(\"\\nAcurácia - Naive Bayes (GridSearchCV):\", accuracy_score(y_test, y_pred_nb_grid))\n",
    "print(\"\\nRelatório de Classificação - Naive Bayes (GridSearchCV):\")\n",
    "print(classification_report(y_test, y_pred_nb_grid, target_names=['ham', 'spam']))\n"
   ]
  },
  {
   "cell_type": "code",
   "execution_count": 24,
   "id": "8b4af874-aeb9-4547-b481-3d56a4c087aa",
   "metadata": {},
   "outputs": [
    {
     "data": {
      "image/png": "[encoded data removed]",
      "text/plain": [
       "<Figure size 640x480 with 2 Axes>"
      ]
     },
     "metadata": {},
     "output_type": "display_data"
    }
   ],
   "source": [
    "# Matriz de confusão - Naive Bayes Multinomial - GridSearchCV\n",
    "cm_nb_grid = confusion_matrix(y_test, y_pred_nb_grid)\n",
    "disp_nb_grid = ConfusionMatrixDisplay(confusion_matrix=cm_nb_grid, display_labels=['ham', 'spam'])\n",
    "disp_nb_grid.plot(cmap='Blues')\n",
    "plt.title(\"Matriz de Confusão - Naive Bayes (GridSearchCV)\")\n",
    "plt.xlabel(\"Previsto\")\n",
    "plt.ylabel(\"Real\")\n",
    "plt.show()"
   ]
  },
  {
   "cell_type": "markdown",
   "id": "60a73cfc-f732-41be-84b8-da07cf6d910a",
   "metadata": {},
   "source": [
    "*RandomizedSearchCV*"
   ]
  },
  {
   "cell_type": "code",
   "execution_count": 25,
   "id": "d33216a2-303b-4df1-9acf-01a90471b229",
   "metadata": {},
   "outputs": [
    {
     "name": "stdout",
     "output_type": "stream",
     "text": [
      "\n",
      "Melhores parâmetros (RandomizedSearchCV): {'alpha': np.float64(0.2914180608409973)}\n",
      "\n",
      "Acurácia - Naive Bayes (RandomizedSearchCV): 0.9742822966507177\n",
      "\n",
      "Relatório de Classificação - Naive Bayes (RandomizedSearchCV):\n",
      "              precision    recall  f1-score   support\n",
      "\n",
      "         ham       0.98      0.99      0.99      1448\n",
      "        spam       0.94      0.86      0.90       224\n",
      "\n",
      "    accuracy                           0.97      1672\n",
      "   macro avg       0.96      0.93      0.94      1672\n",
      "weighted avg       0.97      0.97      0.97      1672\n",
      "\n"
     ]
    }
   ],
   "source": [
    "\n",
    "\n",
    "# Espaço de busca aleatório\n",
    "param_dist_nb = {\n",
    "    'alpha': uniform(loc=0.001, scale=5.0)\n",
    "}\n",
    "\n",
    "# RandomizedSearchCV\n",
    "random_search_nb = RandomizedSearchCV(\n",
    "    estimator=MultinomialNB(),\n",
    "    param_distributions=param_dist_nb,\n",
    "    n_iter=20,\n",
    "    cv=5,\n",
    "    scoring='f1_macro',\n",
    "    n_jobs=-1,\n",
    "    random_state=42\n",
    ")\n",
    "\n",
    "# Treinamento\n",
    "random_search_nb.fit(X_train, y_train)\n",
    "\n",
    "# Melhor modelo e predição\n",
    "best_nb_random = random_search_nb.best_estimator_\n",
    "y_pred_nb_random = best_nb_random.predict(X_test)\n",
    "\n",
    "\n",
    "print(\"\\nMelhores parâmetros (RandomizedSearchCV):\", random_search_nb.best_params_)\n",
    "print(\"\\nAcurácia - Naive Bayes (RandomizedSearchCV):\", accuracy_score(y_test, y_pred_nb_random))\n",
    "print(\"\\nRelatório de Classificação - Naive Bayes (RandomizedSearchCV):\")\n",
    "print(classification_report(y_test, y_pred_nb_random, target_names=['ham', 'spam']))\n",
    "\n",
    "\n"
   ]
  },
  {
   "cell_type": "code",
   "execution_count": 26,
   "id": "adccf775-97f1-40ab-b931-477fec3cae58",
   "metadata": {},
   "outputs": [
    {
     "data": {
      "image/png": "[encoded data removed]",
      "text/plain": [
       "<Figure size 640x480 with 2 Axes>"
      ]
     },
     "metadata": {},
     "output_type": "display_data"
    }
   ],
   "source": [
    "# # Matriz de confusão - Naive Bayes Multinomial - otimizado - RandomizedSearchCV\n",
    "\n",
    "cm_nb_random = confusion_matrix(y_test, y_pred_nb_random)\n",
    "disp_nb_random = ConfusionMatrixDisplay(confusion_matrix=cm_nb_random, display_labels=['ham', 'spam'])\n",
    "disp_nb_random.plot(cmap='Blues')\n",
    "plt.title(\"Matriz de Confusão - Naive Bayes (RandomizedSearchCV)\")\n",
    "plt.xlabel(\"Previsto\")\n",
    "plt.ylabel(\"Real\")\n",
    "plt.show()"
   ]
  },
  {
   "cell_type": "code",
   "execution_count": 27,
   "id": "f389cfe4-62cb-4ef5-8970-5936a3f8df5e",
   "metadata": {},
   "outputs": [
    {
     "name": "stdout",
     "output_type": "stream",
     "text": [
      "\n",
      "Resumo Comparativo - Naive Bayes Multinomial:\n",
      "\n"
     ]
    },
    {
     "data": {
      "text/html": [
       "<div>\n",
       "<style scoped>\n",
       "    .dataframe tbody tr th:only-of-type {\n",
       "        vertical-align: middle;\n",
       "    }\n",
       "\n",
       "    .dataframe tbody tr th {\n",
       "        vertical-align: top;\n",
       "    }\n",
       "\n",
       "    .dataframe thead th {\n",
       "        text-align: right;\n",
       "    }\n",
       "</style>\n",
       "<table border=\"1\" class=\"dataframe\">\n",
       "  <thead>\n",
       "    <tr style=\"text-align: right;\">\n",
       "      <th></th>\n",
       "      <th>Sem Otimização</th>\n",
       "      <th>GridSearchCV</th>\n",
       "      <th>RandomizedSearchCV</th>\n",
       "    </tr>\n",
       "  </thead>\n",
       "  <tbody>\n",
       "    <tr>\n",
       "      <th>Acurácia</th>\n",
       "      <td>0.9629</td>\n",
       "      <td>0.9743</td>\n",
       "      <td>0.9743</td>\n",
       "    </tr>\n",
       "    <tr>\n",
       "      <th>Precisão (spam)</th>\n",
       "      <td>1.0000</td>\n",
       "      <td>0.9058</td>\n",
       "      <td>0.9415</td>\n",
       "    </tr>\n",
       "    <tr>\n",
       "      <th>Recall (spam)</th>\n",
       "      <td>0.7232</td>\n",
       "      <td>0.9018</td>\n",
       "      <td>0.8616</td>\n",
       "    </tr>\n",
       "    <tr>\n",
       "      <th>F1-Score (spam)</th>\n",
       "      <td>0.8394</td>\n",
       "      <td>0.9038</td>\n",
       "      <td>0.8998</td>\n",
       "    </tr>\n",
       "  </tbody>\n",
       "</table>\n",
       "</div>"
      ],
      "text/plain": [
       "                 Sem Otimização  GridSearchCV  RandomizedSearchCV\n",
       "Acurácia                 0.9629        0.9743              0.9743\n",
       "Precisão (spam)          1.0000        0.9058              0.9415\n",
       "Recall (spam)            0.7232        0.9018              0.8616\n",
       "F1-Score (spam)          0.8394        0.9038              0.8998"
      ]
     },
     "metadata": {},
     "output_type": "display_data"
    }
   ],
   "source": [
    "\n",
    "\n",
    "\n",
    "# Métricas do modelo sem otimização \n",
    "metrics_default_nb = {\n",
    "    'Acurácia': accuracy_score(y_test, y_pred_nb),\n",
    "    'Precisão (spam)': precision_score(y_test, y_pred_nb, pos_label='spam'),\n",
    "    'Recall (spam)': recall_score(y_test, y_pred_nb, pos_label='spam'),\n",
    "    'F1-Score (spam)': f1_score(y_test, y_pred_nb, pos_label='spam'),\n",
    "}\n",
    "\n",
    "# Métricas do modelo otimizado com GridSearchCV\n",
    "metrics_grid_nb = {\n",
    "    'Acurácia': accuracy_score(y_test, y_pred_nb_grid),\n",
    "    'Precisão (spam)': precision_score(y_test, y_pred_nb_grid, pos_label='spam'),\n",
    "    'Recall (spam)': recall_score(y_test, y_pred_nb_grid, pos_label='spam'),\n",
    "    'F1-Score (spam)': f1_score(y_test, y_pred_nb_grid, pos_label='spam'),\n",
    "}\n",
    "\n",
    "# Métricas do modelo otimizado com RandomizedSearchCV\n",
    "metrics_random_nb = {\n",
    "    'Acurácia': accuracy_score(y_test, y_pred_nb_random),\n",
    "    'Precisão (spam)': precision_score(y_test, y_pred_nb_random, pos_label='spam'),\n",
    "    'Recall (spam)': recall_score(y_test, y_pred_nb_random, pos_label='spam'),\n",
    "    'F1-Score (spam)': f1_score(y_test, y_pred_nb_random, pos_label='spam'),\n",
    "}\n",
    "\n",
    "\n",
    "df_comparativo_nb = pd.DataFrame({\n",
    "    'Sem Otimização': metrics_default_nb,\n",
    "    'GridSearchCV': metrics_grid_nb,\n",
    "    'RandomizedSearchCV': metrics_random_nb\n",
    "})\n",
    "\n",
    "\n",
    "print(\"\\nResumo Comparativo - Naive Bayes Multinomial:\\n\")\n",
    "display(df_comparativo_nb.round(4))\n"
   ]
  },
  {
   "cell_type": "markdown",
   "id": "201ad902-473a-4997-8bf6-b98651c7cf15",
   "metadata": {},
   "source": [
    "A comparação entre os três modelos de Naive Bayes Multinomial, sem otimização, com GridSearchCV e com RandomizedSearchCV, mostrou que os dois modelos com otimização (GridSearchCV e RandomizedSearchCV) obtiveram desempenho idêntico em termos de acurácia (97,43%), superior ao modelo sem otimização (96,23%). O modelo com GridSearchCV teve o melhor F1-score (spam), de 0,9038, seguido de perto pelo RandomizedSearchCV (0,8998), enquanto o modelo sem otimização ficou abaixo, com 0,8364. A principal diferença ocorreu em recall da classe \"spam\", onde os modelos otimizados tiveram melhor desempenho (GridSearchCV: 0,9018; RandomizedSearchCV: 0,8616) em comparação ao modelo padrão (0,7188), que priorizou a precisão. No geral, os modelos otimizados com GridSearchCV e RandomizedSearchCV foram mais eficazes para detectar mensagens spam, sendo o GridSearchCV o mais equilibrado."
   ]
  },
  {
   "cell_type": "markdown",
   "id": "bc0aa538-7c46-4310-b613-c9d925988ae2",
   "metadata": {},
   "source": [
    "##### *Random Forest - Otimizado*"
   ]
  },
  {
   "cell_type": "markdown",
   "id": "61f045ea-2663-4d8f-a32b-f4fd27a5bfdd",
   "metadata": {},
   "source": [
    "*GridSearchCV*"
   ]
  },
  {
   "cell_type": "code",
   "execution_count": 28,
   "id": "ffce2d43-49b6-43a3-af74-5256328ff212",
   "metadata": {},
   "outputs": [
    {
     "name": "stdout",
     "output_type": "stream",
     "text": [
      "Fitting 3 folds for each of 4 candidates, totalling 12 fits\n",
      "\n",
      "Melhores parâmetros encontrados - Random Forest (GridSearchCV):\n",
      "{'bootstrap': True, 'max_depth': None, 'min_samples_leaf': 1, 'min_samples_split': 2, 'n_estimators': 100}\n",
      "\n",
      "Acurácia - Random Forest (GridSearchCV): 0.9784688995215312\n",
      "\n",
      "Relatório de Classificação - Random Forest (GridSearchCV):\n",
      "              precision    recall  f1-score   support\n",
      "\n",
      "         ham       0.98      1.00      0.99      1448\n",
      "        spam       1.00      0.84      0.91       224\n",
      "\n",
      "    accuracy                           0.98      1672\n",
      "   macro avg       0.99      0.92      0.95      1672\n",
      "weighted avg       0.98      0.98      0.98      1672\n",
      "\n"
     ]
    }
   ],
   "source": [
    "\n",
    "\n",
    "# Grade de hiperparâmetros simplificada\n",
    "param_grid = {\n",
    "    'n_estimators': [100],\n",
    "    'max_depth': [None, 10],\n",
    "    'min_samples_split': [2],\n",
    "    'min_samples_leaf': [1],\n",
    "    'bootstrap': [True, False]\n",
    "}\n",
    "\n",
    "# Instanciando o modelo base\n",
    "rf_base = RandomForestClassifier(random_state=42)\n",
    "\n",
    "# GridSearchCV com menos combinações\n",
    "grid_search_rf = GridSearchCV(\n",
    "    estimator=rf_base,\n",
    "    param_grid=param_grid,\n",
    "    cv=3,  # reduzindo para 3 folds\n",
    "    scoring='f1_weighted',\n",
    "    n_jobs=-1,\n",
    "    verbose=1\n",
    ")\n",
    "\n",
    "# Treinamento\n",
    "grid_search_rf.fit(X_train_resampled, y_train_resampled)\n",
    "\n",
    "# Melhor modelo encontrado\n",
    "best_rf_model = grid_search_rf.best_estimator_\n",
    "\n",
    "# Previsões\n",
    "y_pred_rf_grid = best_rf_model.predict(X_test)\n",
    "\n",
    "print(\"\\nMelhores parâmetros encontrados - Random Forest (GridSearchCV):\")\n",
    "print(grid_search_rf.best_params_)\n",
    "\n",
    "print(\"\\nAcurácia - Random Forest (GridSearchCV):\", accuracy_score(y_test, y_pred_rf_grid))\n",
    "print(\"\\nRelatório de Classificação - Random Forest (GridSearchCV):\")\n",
    "print(classification_report(y_test, y_pred_rf_grid, target_names=['ham', 'spam']))"
   ]
  },
  {
   "cell_type": "code",
   "execution_count": 29,
   "id": "e2e1af60-afe5-4858-ab07-064b5f3ee18c",
   "metadata": {},
   "outputs": [
    {
     "data": {
      "image/png": "[encoded data removed]",
      "text/plain": [
       "<Figure size 640x480 with 2 Axes>"
      ]
     },
     "metadata": {},
     "output_type": "display_data"
    }
   ],
   "source": [
    "# Matriz de confusão - \n",
    "cm = confusion_matrix(y_test, y_pred_rf_grid)\n",
    "disp = ConfusionMatrixDisplay(confusion_matrix=cm, display_labels=['ham', 'spam'])\n",
    "disp.plot(cmap=plt.cm.Blues)\n",
    "plt.title('Matriz de Confusão - Random Forest (GridSearchCV)')\n",
    "plt.xlabel(\"Previsto\")\n",
    "plt.ylabel(\"Real\")\n",
    "plt.show()"
   ]
  },
  {
   "cell_type": "markdown",
   "id": "8908d29c-ffb7-4653-b598-234a72f6c084",
   "metadata": {},
   "source": [
    "*RandomizedSearchCV*"
   ]
  },
  {
   "cell_type": "code",
   "execution_count": 30,
   "id": "11ce6bbf-7eac-413d-a096-730dbcbf4f8c",
   "metadata": {},
   "outputs": [
    {
     "name": "stdout",
     "output_type": "stream",
     "text": [
      "Fitting 3 folds for each of 10 candidates, totalling 30 fits\n",
      "\n",
      "Melhores parâmetros encontrados (RandomizedSearchCV - Random Forest): {'bootstrap': True, 'class_weight': 'balanced', 'max_depth': 26, 'min_samples_leaf': 1, 'min_samples_split': 4, 'n_estimators': 269}\n",
      "\n",
      "Acurácia - Random Forest (RandomizedSearchCV): 0.9736842105263158\n",
      "\n",
      "Relatório de Classificação - Random Forest (RandomizedSearchCV):\n",
      "              precision    recall  f1-score   support\n",
      "\n",
      "         ham       0.97      1.00      0.99      1448\n",
      "        spam       1.00      0.80      0.89       224\n",
      "\n",
      "    accuracy                           0.97      1672\n",
      "   macro avg       0.99      0.90      0.94      1672\n",
      "weighted avg       0.97      0.97      0.97      1672\n",
      "\n"
     ]
    }
   ],
   "source": [
    "\n",
    "\n",
    "param_dist_rf = {\n",
    "    'n_estimators': randint(100, 300),\n",
    "    'max_depth': randint(10, 30),\n",
    "    'min_samples_split': randint(2, 5),\n",
    "    'min_samples_leaf': randint(1, 3),\n",
    "    'bootstrap': [True],\n",
    "    'class_weight': ['balanced']\n",
    "}\n",
    "\n",
    "rf_model = RandomForestClassifier(random_state=42)\n",
    "\n",
    "random_search_rf = RandomizedSearchCV(\n",
    "    estimator=rf_model,\n",
    "    param_distributions=param_dist_rf,\n",
    "    n_iter=10,\n",
    "    cv=3,\n",
    "    scoring='f1_macro',\n",
    "    n_jobs=1,\n",
    "    random_state=42,\n",
    "    verbose=1\n",
    ")\n",
    "\n",
    "random_search_rf.fit(X_train_resampled, y_train_resampled)\n",
    "\n",
    "best_params_rf_random = random_search_rf.best_params_\n",
    "print(\"\\nMelhores parâmetros encontrados (RandomizedSearchCV - Random Forest):\", best_params_rf_random)\n",
    "\n",
    "best_rf_random_model = random_search_rf.best_estimator_\n",
    "y_pred_rf_random = best_rf_random_model.predict(X_test)\n",
    "\n",
    "print(\"\\nAcurácia - Random Forest (RandomizedSearchCV):\", accuracy_score(y_test, y_pred_rf_random))\n",
    "print(\"\\nRelatório de Classificação - Random Forest (RandomizedSearchCV):\")\n",
    "print(classification_report(y_test, y_pred_rf_random, target_names=['ham', 'spam']))\n",
    "\n"
   ]
  },
  {
   "cell_type": "code",
   "execution_count": 31,
   "id": "af05b76d-e4e0-4e65-9b3f-800d763ccc93",
   "metadata": {},
   "outputs": [
    {
     "data": {
      "image/png": "[encoded data removed]",
      "text/plain": [
       "<Figure size 640x480 with 2 Axes>"
      ]
     },
     "metadata": {},
     "output_type": "display_data"
    }
   ],
   "source": [
    "# Matriz de Confusão - Random Forest (RandomizedSearchCV)\n",
    "cm = confusion_matrix(y_test, y_pred_rf_random)\n",
    "disp = ConfusionMatrixDisplay(confusion_matrix=cm, display_labels=['ham', 'spam'])\n",
    "disp.plot(cmap=plt.cm.Blues)\n",
    "plt.title('Matriz de Confusão - Random Forest (RandomizedSearchCV)')\n",
    "plt.xlabel(\"Previsto\")\n",
    "plt.ylabel(\"Real\")\n",
    "plt.show()"
   ]
  },
  {
   "cell_type": "code",
   "execution_count": 32,
   "id": "0127364b-f4da-479b-9859-b5a4afd9d4b9",
   "metadata": {},
   "outputs": [
    {
     "name": "stdout",
     "output_type": "stream",
     "text": [
      "\n",
      "Resumo Comparativo - Random Forest:\n",
      "\n"
     ]
    },
    {
     "data": {
      "text/html": [
       "<div>\n",
       "<style scoped>\n",
       "    .dataframe tbody tr th:only-of-type {\n",
       "        vertical-align: middle;\n",
       "    }\n",
       "\n",
       "    .dataframe tbody tr th {\n",
       "        vertical-align: top;\n",
       "    }\n",
       "\n",
       "    .dataframe thead th {\n",
       "        text-align: right;\n",
       "    }\n",
       "</style>\n",
       "<table border=\"1\" class=\"dataframe\">\n",
       "  <thead>\n",
       "    <tr style=\"text-align: right;\">\n",
       "      <th></th>\n",
       "      <th>Sem Otimização</th>\n",
       "      <th>GridSearchCV</th>\n",
       "      <th>RandomizedSearchCV</th>\n",
       "    </tr>\n",
       "  </thead>\n",
       "  <tbody>\n",
       "    <tr>\n",
       "      <th>Acurácia</th>\n",
       "      <td>0.9785</td>\n",
       "      <td>0.9785</td>\n",
       "      <td>0.9737</td>\n",
       "    </tr>\n",
       "    <tr>\n",
       "      <th>Precisão (spam)</th>\n",
       "      <td>1.0000</td>\n",
       "      <td>1.0000</td>\n",
       "      <td>1.0000</td>\n",
       "    </tr>\n",
       "    <tr>\n",
       "      <th>Recall (spam)</th>\n",
       "      <td>0.8393</td>\n",
       "      <td>0.8393</td>\n",
       "      <td>0.8036</td>\n",
       "    </tr>\n",
       "    <tr>\n",
       "      <th>F1-Score (spam)</th>\n",
       "      <td>0.9126</td>\n",
       "      <td>0.9126</td>\n",
       "      <td>0.8911</td>\n",
       "    </tr>\n",
       "  </tbody>\n",
       "</table>\n",
       "</div>"
      ],
      "text/plain": [
       "                 Sem Otimização  GridSearchCV  RandomizedSearchCV\n",
       "Acurácia                 0.9785        0.9785              0.9737\n",
       "Precisão (spam)          1.0000        1.0000              1.0000\n",
       "Recall (spam)            0.8393        0.8393              0.8036\n",
       "F1-Score (spam)          0.9126        0.9126              0.8911"
      ]
     },
     "metadata": {},
     "output_type": "display_data"
    }
   ],
   "source": [
    "\n",
    "\n",
    "# Métricas do modelo sem otimização \n",
    "metrics_default_rf = {\n",
    "    'Acurácia': accuracy_score(y_test, y_pred_rf),\n",
    "    'Precisão (spam)': precision_score(y_test, y_pred_rf, pos_label='spam'),\n",
    "    'Recall (spam)': recall_score(y_test, y_pred_rf, pos_label='spam'),\n",
    "    'F1-Score (spam)': f1_score(y_test, y_pred_rf, pos_label='spam'),\n",
    "}\n",
    "\n",
    "# Métricas do modelo com GridSearchCV\n",
    "metrics_grid_rf = {\n",
    "    'Acurácia': accuracy_score(y_test, y_pred_rf_grid),\n",
    "    'Precisão (spam)': precision_score(y_test, y_pred_rf_grid, pos_label='spam'),\n",
    "    'Recall (spam)': recall_score(y_test, y_pred_rf_grid, pos_label='spam'),\n",
    "    'F1-Score (spam)': f1_score(y_test, y_pred_rf_grid, pos_label='spam'),\n",
    "}\n",
    "\n",
    "# Métricas do modelo com RandomizedSearchCV\n",
    "metrics_random_rf = {\n",
    "    'Acurácia': accuracy_score(y_test, y_pred_rf_random),\n",
    "    'Precisão (spam)': precision_score(y_test, y_pred_rf_random, pos_label='spam'),\n",
    "    'Recall (spam)': recall_score(y_test, y_pred_rf_random, pos_label='spam'),\n",
    "    'F1-Score (spam)': f1_score(y_test, y_pred_rf_random, pos_label='spam'),\n",
    "}\n",
    "\n",
    "# DataFrame comparativo\n",
    "df_comparativo_rf = pd.DataFrame({\n",
    "    'Sem Otimização': metrics_default_rf,\n",
    "    'GridSearchCV': metrics_grid_rf,\n",
    "    'RandomizedSearchCV': metrics_random_rf\n",
    "})\n",
    "\n",
    "print(\"\\nResumo Comparativo - Random Forest:\\n\")\n",
    "display(df_comparativo_rf.round(4))\n"
   ]
  },
  {
   "cell_type": "markdown",
   "id": "3e142d9d-dd3c-4001-bea6-29220a55608a",
   "metadata": {},
   "source": [
    "A comparação entre os três modelos de Random Forest sem otimização, com GridSearchCV e com RandomizedSearchCV, mostrou que o modelo otimizado com GridSearchCV teve o melhor desempenho geral, com acurácia de 98,03% e F1-score (spam) de 0,9205. O modelo sem otimização ficou muito próximo, com acurácia de 97,97% e F1-score de 0,9183, o que indica que os hiperparâmetros padrão já estavam bem ajustados para esse conjunto de dados. O modelo com RandomizedSearchCV apresentou desempenho levemente inferior (acurácia de 97,25% e F1-score de 0,8861), devido a um recall mais baixo para a classe \"spam\" (0,7991). No geral, os três modelos foram eficazes, mas o GridSearchCV conseguiu manter alta precisão e melhorar o equilíbrio entre precisão e recall, sendo a melhor escolha entre as três abordagens."
   ]
  },
  {
   "cell_type": "markdown",
   "id": "addda220-175a-450f-bd85-620badd5e15f",
   "metadata": {},
   "source": [
    "##### 8. Conclusão "
   ]
  },
  {
   "cell_type": "markdown",
   "id": "7148157a",
   "metadata": {},
   "source": [
    "\n",
    "Neste projeto foram desenvolvidos 3 modelos (Random Forest, Naive Bayes Multinomial, SVM Linear), com três abordagens:\n",
    "\n",
    "Modelo sem otimização\n",
    "\n",
    "Modelo otimizado com GridSearchCV\n",
    "\n",
    "Modelo otimizado com RandomizedSearchCV\n",
    "\n",
    "As métricas avaliadas foram Acurácia, Precisão, Recall e F1-Score, focando especialmente na classe spam.\n",
    "\n",
    "Melhor modelo: \n",
    "    O modelo SVM Linear com GridSearchCV apresentou entre todas as opções o melhor equilíbrio entre precisão e recall para a classe spam, além de um F1-Score superior — o  que é essencial para evitar tanto falsos negativos (não detectar spam) quanto falsos positivos (bloquear mensagens legítimas).\n",
    "\n",
    "Referência ao artigo:\n",
    "    Essa constatação vai ao encontro dos resultados apresentados por Almeida et al. (2011), que também apontam o SVM como uma das abordagens mais eficazes no contexto de   filtragem de spam em mensagens curtas."
   ]
  },
  {
   "cell_type": "markdown",
   "id": "f39a618e",
   "metadata": {},
   "source": []
  }
 ],
 "metadata": {
  "kernelspec": {
   "display_name": "Python 3",
   "language": "python",
   "name": "python3"
  },
  "language_info": {
   "codemirror_mode": {
    "name": "ipython",
    "version": 3
   },
   "file_extension": ".py",
   "mimetype": "text/x-python",
   "name": "python",
   "nbconvert_exporter": "python",
   "pygments_lexer": "ipython3",
   "version": "3.11.9"
  }
 },
 "nbformat": 4,
 "nbformat_minor": 5
}
